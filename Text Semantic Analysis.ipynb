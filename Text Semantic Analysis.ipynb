{
 "cells": [
  {
   "cell_type": "markdown",
   "id": "1dfe5c79",
   "metadata": {},
   "source": [
    "1) Text Semantic Analysis - processes text and performs NLP semantic analysis techniques. This notebook should output semantic analysis ratings for the dataset. "
   ]
  },
  {
   "cell_type": "code",
   "execution_count": 1,
   "id": "6d71bebb",
   "metadata": {},
   "outputs": [
    {
     "name": "stderr",
     "output_type": "stream",
     "text": [
      "C:\\Users\\rodul\\anaconda3\\Lib\\site-packages\\pydub\\utils.py:170: RuntimeWarning: Couldn't find ffmpeg or avconv - defaulting to ffmpeg, but may not work\n",
      "  warn(\"Couldn't find ffmpeg or avconv - defaulting to ffmpeg, but may not work\", RuntimeWarning)\n"
     ]
    },
    {
     "name": "stdout",
     "output_type": "stream",
     "text": [
      "pygame 2.5.2 (SDL 2.28.3, Python 3.11.7)\n",
      "Hello from the pygame community. https://www.pygame.org/contribute.html\n"
     ]
    }
   ],
   "source": [
    "#imported necessary packages\n",
    "from pydub import AudioSegment\n",
    "import pygame"
   ]
  },
  {
   "cell_type": "code",
   "execution_count": 2,
   "id": "817ade31",
   "metadata": {},
   "outputs": [],
   "source": [
    "#defined function that plays an audio file\n",
    "\n",
    "def play_audio(file_path):\n",
    "    pygame.init()\n",
    "    pygame.mixer.init()\n",
    "    try:\n",
    "        pygame.mixer.music.load(file_path)#loads the audio file\n",
    "        pygame.mixer.music.play()#plays the audio file\n",
    "        while pygame.mixer.music.get_busy():#waits until the audio playback is finished before continuing with the rest of the program\n",
    "            pygame.time.Clock().tick(10)\n",
    "    except pygame.error as e:\n",
    "        print(\"Error occurred while playing audio:\", e) #prints an error message should the program fails to be executed\n",
    "    pygame.quit()"
   ]
  },
  {
   "cell_type": "code",
   "execution_count": 3,
   "id": "d87ca559",
   "metadata": {},
   "outputs": [],
   "source": [
    "#defined function that can play audio through the speakers (or headphones)\n",
    "\n",
    "def play(input_file):\n",
    "    #called function that plays the newly converted wav audio file\n",
    "    play_audio(input_file)\n",
    "    "
   ]
  },
  {
   "cell_type": "code",
   "execution_count": 4,
   "id": "d41fee72",
   "metadata": {},
   "outputs": [],
   "source": [
    "#tested the program works by calling the function and playing a sample recording\n",
    "\n",
    "#assigned file path to input_file variable\n",
    "input_file = 'ravdess-emotional-speech-audio/audio_speech_actors_01-24/Actor_01/03-01-01-01-01-01-01.wav'\n",
    "\n",
    "#called the play function\n",
    "play(input_file)"
   ]
  },
  {
   "cell_type": "code",
   "execution_count": 5,
   "id": "a068a2dc",
   "metadata": {},
   "outputs": [],
   "source": [
    "#imported necessary packages\n",
    "from transformers import pipeline"
   ]
  },
  {
   "cell_type": "code",
   "execution_count": 6,
   "id": "8d7808c3",
   "metadata": {},
   "outputs": [
    {
     "name": "stdout",
     "output_type": "stream",
     "text": [
      "WARNING:tensorflow:From C:\\Users\\rodul\\anaconda3\\Lib\\site-packages\\tf_keras\\src\\losses.py:2976: The name tf.losses.sparse_softmax_cross_entropy is deprecated. Please use tf.compat.v1.losses.sparse_softmax_cross_entropy instead.\n",
      "\n"
     ]
    },
    {
     "name": "stderr",
     "output_type": "stream",
     "text": [
      "Special tokens have been added in the vocabulary, make sure the associated word embeddings are fine-tuned or trained.\n"
     ]
    }
   ],
   "source": [
    "#Using pipeline, created a transcriber that when called, converts an audio file and transcribes it into text\n",
    "transcriber = pipeline(task=\"automatic-speech-recognition\", model=\"openai/whisper-small\")"
   ]
  },
  {
   "cell_type": "code",
   "execution_count": 7,
   "id": "6ae84e9b",
   "metadata": {},
   "outputs": [],
   "source": [
    "#imported logging so we can log the transcript into a log file\n",
    "import logging"
   ]
  },
  {
   "cell_type": "code",
   "execution_count": 8,
   "id": "cd5a8db3",
   "metadata": {},
   "outputs": [],
   "source": [
    "import ffmpeg"
   ]
  },
  {
   "cell_type": "code",
   "execution_count": 11,
   "id": "e122b128",
   "metadata": {},
   "outputs": [],
   "source": [
    "#Configures logging to write logs to a file named transcript.log\n",
    "logging.basicConfig(filename='transcript.log', level=logging.INFO, format='%(asctime)s - %(levelname)s - %(message)s')\n",
    "\n",
    "#defined a function that would utilize the transcriber\n",
    "#in case the transcriber fails, the user will be asked to manually type the script\n",
    "def transcribe(input_file):\n",
    "    print(\"Transcribing. Please wait...\")\n",
    "    try:\n",
    "        transcript = transcriber(input_file)#calls the transcriber\n",
    "        logging.info(\"Transcript: %s\", transcript)  #Logs the transcript\n",
    "        print(\"Transcript:\", transcript)  #Prints the transcript\n",
    "    except Exception as e:#should transcriber fail, the messages below will be displayed and the user will be prompted to enter transcript manually\n",
    "        logging.error(\"Error occurred: %s\", e)  # Log the error\n",
    "        print(\"Error occurred:\", e)  # Print the error message\n",
    "\n",
    "    return transcript\n"
   ]
  },
  {
   "cell_type": "code",
   "execution_count": 20,
   "id": "47360186",
   "metadata": {
    "scrolled": true
   },
   "outputs": [
    {
     "name": "stdout",
     "output_type": "stream",
     "text": [
      "Transcribing. Please wait...\n",
      "Transcript: {'text': \" I'm dissatisfied with the technician who helped me yesterday. I'm unhappy with your service. I actually have a problem with the way you handled my request. This is unacceptable. I would like to speak with your supervisor. Fuck you! I hate you for treating me like shit!\"}\n"
     ]
    },
    {
     "data": {
      "text/plain": [
       "{'text': \" I'm dissatisfied with the technician who helped me yesterday. I'm unhappy with your service. I actually have a problem with the way you handled my request. This is unacceptable. I would like to speak with your supervisor. Fuck you! I hate you for treating me like shit!\"}"
      ]
     },
     "execution_count": 20,
     "metadata": {},
     "output_type": "execute_result"
    }
   ],
   "source": [
    "#checked that the transcribe function works as expected with an invalid audio file\n",
    "\n",
    "#assigned file path of the recording used earlier to input_file variable\n",
    "input_file = \"odi_recordings/complaints_converted.wav\"\n",
    "\n",
    "#called transcribe function\n",
    "transcript = transcribe(input_file)\n",
    "transcript"
   ]
  },
  {
   "cell_type": "code",
   "execution_count": 23,
   "id": "90118113",
   "metadata": {},
   "outputs": [
    {
     "name": "stdout",
     "output_type": "stream",
     "text": [
      "User is angry.\n"
     ]
    }
   ],
   "source": [
    "#Used pipeline for sentiment analysis using distilroberta fine-tuned on offensive/hateful dataset since our focus is on angry customers\n",
    "from transformers import pipeline\n",
    "\n",
    "classify_sentiment = pipeline(\"text-classification\", \n",
    "                              model=\"badmatr11x/distilroberta-base-offensive-hateful-speech-text-multiclassification\")\n",
    "\n",
    "try:\n",
    "    sentiment = classify_sentiment(transcript['text'])\n",
    "    score = sentiment[0]['score'] #assigns score to score variable\n",
    "    \n",
    "except:\n",
    "    sentiment = 'negative'\n",
    "    \n",
    "#extracts the label from the sentiment\n",
    "try:\n",
    "    sentiment_label = sentiment[0]['label']\n",
    "except:\n",
    "    sentiment_label = sentiment\n",
    "\n",
    "if sentiment_label == 'OFFENSIVE-LANGUAGE':\n",
    "    #if this condition is met, then statement should be considered to be coming from someone who is angry\n",
    "\n",
    "    print(\"User is angry.\")       \n",
    "        \n",
    "else:\n",
    "    print(\"User is calm.\")\n",
    "\n"
   ]
  },
  {
   "cell_type": "code",
   "execution_count": 24,
   "id": "a77b53de",
   "metadata": {},
   "outputs": [],
   "source": [
    "#defined function that determines whether a customer is angry or not\n",
    "\n",
    "def is_caller_angry(input_file):\n",
    "    #called transcribe function\n",
    "    transcript = transcribe(input_file)\n",
    "    \n",
    "    #Used pipeline for sentiment analysis using distilroberta fine-tuned on offensive/hateful dataset since our focus is on angry customers\n",
    "    from transformers import pipeline\n",
    "\n",
    "    classify_sentiment = pipeline(\"text-classification\", \n",
    "                                  model=\"badmatr11x/distilroberta-base-offensive-hateful-speech-text-multiclassification\")\n",
    "\n",
    "    try:\n",
    "        sentiment = classify_sentiment(transcript['text'])\n",
    "        score = sentiment[0]['score'] #assigns score to score variable\n",
    "\n",
    "    except:\n",
    "        sentiment = 'negative'\n",
    "\n",
    "    #extracts the label from the sentiment\n",
    "    try:\n",
    "        sentiment_label = sentiment[0]['label']\n",
    "    except:\n",
    "        sentiment_label = sentiment\n",
    "\n",
    "    if sentiment_label == 'OFFENSIVE-LANGUAGE':\n",
    "        #if this condition is met, then statement should be considered to be coming from someone who is angry\n",
    "\n",
    "        print(\"User is angry.\")       \n",
    "\n",
    "    else:\n",
    "        print(\"User is calm.\")\n",
    "\n",
    "\n",
    "    return sentiment_label\n",
    "    "
   ]
  },
  {
   "cell_type": "code",
   "execution_count": 25,
   "id": "c567dc6a",
   "metadata": {},
   "outputs": [
    {
     "name": "stdout",
     "output_type": "stream",
     "text": [
      "Transcribing. Please wait...\n",
      "Transcript: {'text': \" I'm dissatisfied with the technician who helped me yesterday. I'm unhappy with your service. I actually have a problem with the way you handled my request. This is unacceptable. I would like to speak with your supervisor. Fuck you! I hate you for treating me like shit!\"}\n",
      "User is angry.\n"
     ]
    },
    {
     "data": {
      "text/plain": [
       "'OFFENSIVE-LANGUAGE'"
      ]
     },
     "execution_count": 25,
     "metadata": {},
     "output_type": "execute_result"
    }
   ],
   "source": [
    "#assigned file path of the recording used earlier to input_file variable\n",
    "input_file = \"odi_recordings/complaints_converted.wav\"\n",
    "\n",
    "#called function\n",
    "is_caller_angry(input_file)"
   ]
  }
 ],
 "metadata": {
  "kernelspec": {
   "display_name": "Python 3 (ipykernel)",
   "language": "python",
   "name": "python3"
  },
  "language_info": {
   "codemirror_mode": {
    "name": "ipython",
    "version": 3
   },
   "file_extension": ".py",
   "mimetype": "text/x-python",
   "name": "python",
   "nbconvert_exporter": "python",
   "pygments_lexer": "ipython3",
   "version": "3.11.7"
  }
 },
 "nbformat": 4,
 "nbformat_minor": 5
}
