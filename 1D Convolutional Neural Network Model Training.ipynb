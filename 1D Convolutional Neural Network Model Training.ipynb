{
 "cells": [
  {
   "cell_type": "markdown",
   "id": "fd9a19bf",
   "metadata": {},
   "source": [
    "4) 1D Convolutional Neural Network Model Training - takes the output of #3 as inputs and performs 1D Convolutional Neural Network Model model training. Outputs the best model. "
   ]
  },
  {
   "cell_type": "markdown",
   "id": "70cf9714",
   "metadata": {},
   "source": [
    "## Build the Model\n",
    "\n",
    "Construct the Conv1D neural network model.\n"
   ]
  },
  {
   "cell_type": "code",
   "execution_count": null,
   "id": "fd918a09",
   "metadata": {},
   "outputs": [],
   "source": [
    "# Build the model\n",
    "model = Sequential()\n",
    "model.add(Conv1D(256, kernel_size=5, strides=1, padding='same', activation='relu', input_shape=(x_train.shape[1], 1)))\n",
    "model.add(MaxPooling1D(pool_size=5, strides=2, padding='same'))\n",
    "model.add(Dropout(0.2))\n",
    "\n",
    "model.add(Conv1D(128, kernel_size=5, strides=1, padding='same', activation='relu'))\n",
    "model.add(MaxPooling1D(pool_size=5, strides=2, padding='same'))\n",
    "\n",
    "model.add(Conv1D(64, kernel_size=5, strides=1, padding='same', activation='relu'))\n",
    "model.add(MaxPooling1D(pool_size=5, strides=2, padding='same'))\n",
    "\n",
    "model.add(Conv1D(32, kernel_size=5, strides=1, padding='same', activation='relu'))\n",
    "model.add(MaxPooling1D(pool_size=5, strides=2, padding='same'))\n",
    "\n",
    "model.add(Flatten())\n",
    "model.add(Dense(units=16, activation='relu'))\n",
    "model.add(Dropout(0.3))\n",
    "model.add(Dense(units=7, activation='softmax'))\n",
    "\n",
    "model.compile(optimizer='adam', loss='categorical_crossentropy', metrics=['accuracy'])\n",
    "\n",
    "model.summary()"
   ]
  },
  {
   "cell_type": "markdown",
   "id": "ecba2458",
   "metadata": {},
   "source": [
    "## Train the Model\n",
    "\n",
    "Train the model with the training data.\n"
   ]
  },
  {
   "cell_type": "code",
   "execution_count": null,
   "id": "a8d8c99f",
   "metadata": {},
   "outputs": [],
   "source": [
    "# Train the model\n",
    "rlrp = ReduceLROnPlateau(monitor='loss', factor=0.4, patience=4, min_lr=0.0000001)\n",
    "history = model.fit(x_train, y_train, batch_size=64, epochs=50, validation_data=(x_test, y_test), callbacks=[rlrp])"
   ]
  },
  {
   "cell_type": "markdown",
   "id": "4b3a97ab",
   "metadata": {},
   "source": [
    "## Evaluate the Model\n",
    "\n",
    "Evaluate the model's performance on the test data.\n"
   ]
  },
  {
   "cell_type": "code",
   "execution_count": null,
   "id": "a44aab97",
   "metadata": {},
   "outputs": [],
   "source": [
    "# Evaluate the model\n",
    "print(\"Accuracy of our model on test data:\", model.evaluate(x_test, y_test)[1] * 100, \"%\")"
   ]
  },
  {
   "cell_type": "markdown",
   "id": "6da170a2",
   "metadata": {},
   "source": [
    "## Plot Training & Validation Metrics\n",
    "\n",
    "Visualize the training and validation accuracy and loss over epochs.\n"
   ]
  },
  {
   "cell_type": "code",
   "execution_count": null,
   "id": "2c354db3",
   "metadata": {},
   "outputs": [],
   "source": [
    "# Plot training & validation accuracy and loss\n",
    "plt.rcParams.update({'font.size': 12})\n",
    "epochs = [i for i in range(50)]\n",
    "fig, ax = plt.subplots(1, 2)\n",
    "train_acc = history.history['accuracy']\n",
    "train_loss = history.history['loss']\n",
    "test_acc = history.history['val_accuracy']\n",
    "test_loss = history.history['val_loss']\n",
    "\n",
    "fig.set_size_inches(20, 6)\n",
    "ax[0].plot(epochs, train_loss, label='Training Loss', marker='o', linewidth=2)\n",
    "ax[0].plot(epochs, test_loss, label='Testing Loss', marker='.', linewidth=2)\n",
    "ax[0].set_title('Training & Testing Loss')\n",
    "ax[0].legend()\n",
    "ax[0].set_xlabel(\"Epochs\")\n",
    "\n",
    "ax[1].plot(epochs, train_acc, label='Training Accuracy', marker='o', linewidth=2)\n",
    "ax[1].plot(epochs, test_acc, label='Testing Accuracy', marker='.', linewidth=2)\n",
    "ax[1].set_title('Training & Testing Accuracy')\n",
    "ax[1].legend()\n",
    "ax[1].set_xlabel(\"Epochs\")\n",
    "\n",
    "plt.subplots_adjust(wspace=0.3)\n",
    "plt.show()"
   ]
  },
  {
   "cell_type": "markdown",
   "id": "1df92b4b",
   "metadata": {},
   "source": [
    "## Confusion Matrix and Classification Report\n",
    "\n",
    "Generate a confusion matrix and classification report to evaluate the model's performance.\n"
   ]
  },
  {
   "cell_type": "code",
   "execution_count": null,
   "id": "191bf999",
   "metadata": {},
   "outputs": [],
   "source": [
    "# Predict the labels for test data\n",
    "y_pred = model.predict(x_test)\n",
    "y_pred = np.argmax(y_pred, axis=1)\n",
    "y_test_labels = np.argmax(y_test, axis=1)\n",
    "\n",
    "# Confusion Matrix\n",
    "cm = confusion_matrix(y_test_labels, y_pred)\n",
    "plt.figure(figsize=(12, 10))\n",
    "cm = pd.DataFrame(cm, index=[i for i in encoder.categories_[0]], columns=[i for i in encoder.categories_[0]])\n",
    "sns.heatmap(cm, linecolor='white', cmap='Purples', linewidth=1, annot=True, fmt='')\n",
    "plt.title('Confusion Matrix', size=20)\n",
    "plt.xlabel('Predicted Labels', size=14)\n",
    "plt.ylabel('Actual Labels', size=14)\n",
    "plt.show()\n",
    "\n",
    "# Classification Report\n",
    "print(classification_report(y_test_labels, y_pred, target_names=[i for i in encoder.categories_[0]]))"
   ]
  },
  {
   "cell_type": "markdown",
   "id": "b1d11d36",
   "metadata": {},
   "source": [
    "## Save the Model\n",
    "\n",
    "Save the trained model to a file for later use.\n"
   ]
  },
  {
   "cell_type": "code",
   "execution_count": null,
   "id": "8de07cca",
   "metadata": {},
   "outputs": [],
   "source": [
    "# Save the model to a file\n",
    "model.save('emotion_recognition_model.h5')\n",
    "print(\"Model saved to 'emotion_recognition_model.h5'\")"
   ]
  }
 ],
 "metadata": {
  "kernelspec": {
   "display_name": "Python 3 (ipykernel)",
   "language": "python",
   "name": "python3"
  },
  "language_info": {
   "codemirror_mode": {
    "name": "ipython",
    "version": 3
   },
   "file_extension": ".py",
   "mimetype": "text/x-python",
   "name": "python",
   "nbconvert_exporter": "python",
   "pygments_lexer": "ipython3",
   "version": "3.11.7"
  }
 },
 "nbformat": 4,
 "nbformat_minor": 5
}
