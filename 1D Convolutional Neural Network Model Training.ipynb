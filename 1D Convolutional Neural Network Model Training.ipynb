{
 "cells": [
  {
   "cell_type": "markdown",
   "id": "fd9a19bf",
   "metadata": {},
   "source": [
    "4) 1D Convolutional Neural Network Model Training - takes the output of #3 as inputs and performs 1D Convolutional Neural Network Model model training. Outputs the best model. "
   ]
  },
  {
   "cell_type": "markdown",
   "id": "915d7bd7",
   "metadata": {},
   "source": [
    "## Build the Model\n",
    "\n",
    "Construct the Conv1D neural network model.\n"
   ]
  },
  {
   "cell_type": "code",
   "execution_count": null,
   "id": "224a9bf3",
   "metadata": {},
   "outputs": [],
   "source": [
    "# Build the model\n",
    "model = Sequential()\n",
    "model.add(Conv1D(256, kernel_size=5, strides=1, padding='same', activation='relu', input_shape=(x_train.shape[1], 1)))\n",
    "model.add(MaxPooling1D(pool_size=5, strides=2, padding='same'))\n",
    "model.add(Dropout(0.2))\n",
    "\n",
    "model.add(Conv1D(128, kernel_size=5, strides=1, padding='same', activation='relu'))\n",
    "model.add(MaxPooling1D(pool_size=5, strides=2, padding='same'))\n",
    "\n",
    "model.add(Conv1D(64, kernel_size=5, strides=1, padding='same', activation='relu'))\n",
    "model.add(MaxPooling1D(pool_size=5, strides=2, padding='same'))\n",
    "\n",
    "model.add(Conv1D(32, kernel_size=5, strides=1, padding='same', activation='relu'))\n",
    "model.add(MaxPooling1D(pool_size=5, strides=2, padding='same'))\n",
    "\n",
    "model.add(Flatten())\n",
    "model.add(Dense(units=16, activation='relu'))\n",
    "model.add(Dropout(0.3))\n",
    "model.add(Dense(units=7, activation='softmax'))\n",
    "\n",
    "model.compile(optimizer='adam', loss='categorical_crossentropy', metrics=['accuracy'])\n",
    "\n",
    "model.summary()"
   ]
  },
  {
   "cell_type": "code",
   "execution_count": null,
   "id": "ef630924",
   "metadata": {},
   "outputs": [],
   "source": [
    "# Train the model\n",
    "rlrp = ReduceLROnPlateau(monitor='loss', factor=0.4, patience=4, min_lr=0.0000001)\n",
    "history = model.fit(x_train, y_train, batch_size=64, epochs=50, validation_data=(x_test, y_test), callbacks=[rlrp])"
   ]
  }
 ],
 "metadata": {
  "kernelspec": {
   "display_name": "Python 3 (ipykernel)",
   "language": "python",
   "name": "python3"
  },
  "language_info": {
   "codemirror_mode": {
    "name": "ipython",
    "version": 3
   },
   "file_extension": ".py",
   "mimetype": "text/x-python",
   "name": "python",
   "nbconvert_exporter": "python",
   "pygments_lexer": "ipython3",
   "version": "3.11.7"
  }
 },
 "nbformat": 4,
 "nbformat_minor": 5
}
