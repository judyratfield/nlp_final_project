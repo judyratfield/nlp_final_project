{
 "cells": [
  {
   "cell_type": "code",
   "execution_count": 17,
   "id": "3c869bfe",
   "metadata": {},
   "outputs": [
    {
     "data": {
      "application/vnd.jupyter.widget-view+json": {
       "model_id": "bd7141f8f07e49fc99e6a0ee15c058c2",
       "version_major": 2,
       "version_minor": 0
      },
      "text/plain": [
       "config.json:   0%|          | 0.00/2.34k [00:00<?, ?B/s]"
      ]
     },
     "metadata": {},
     "output_type": "display_data"
    },
    {
     "name": "stdout",
     "output_type": "stream",
     "text": [
      "WARNING:tensorflow:From C:\\Users\\rodul\\anaconda3\\Lib\\site-packages\\tf_keras\\src\\losses.py:2976: The name tf.losses.sparse_softmax_cross_entropy is deprecated. Please use tf.compat.v1.losses.sparse_softmax_cross_entropy instead.\n",
      "\n"
     ]
    },
    {
     "data": {
      "application/vnd.jupyter.widget-view+json": {
       "model_id": "8505c3fc6fab4cffbce603ba1f761c07",
       "version_major": 2,
       "version_minor": 0
      },
      "text/plain": [
       "model.safetensors:   0%|          | 0.00/378M [00:00<?, ?B/s]"
      ]
     },
     "metadata": {},
     "output_type": "display_data"
    },
    {
     "name": "stderr",
     "output_type": "stream",
     "text": [
      "Some weights of the model checkpoint at dima806/english_accents_classification were not used when initializing Wav2Vec2ForSequenceClassification: ['wav2vec2.encoder.pos_conv_embed.conv.weight_g', 'wav2vec2.encoder.pos_conv_embed.conv.weight_v']\n",
      "- This IS expected if you are initializing Wav2Vec2ForSequenceClassification from the checkpoint of a model trained on another task or with another architecture (e.g. initializing a BertForSequenceClassification model from a BertForPreTraining model).\n",
      "- This IS NOT expected if you are initializing Wav2Vec2ForSequenceClassification from the checkpoint of a model that you expect to be exactly identical (initializing a BertForSequenceClassification model from a BertForSequenceClassification model).\n",
      "Some weights of Wav2Vec2ForSequenceClassification were not initialized from the model checkpoint at dima806/english_accents_classification and are newly initialized: ['wav2vec2.encoder.pos_conv_embed.conv.parametrizations.weight.original0', 'wav2vec2.encoder.pos_conv_embed.conv.parametrizations.weight.original1']\n",
      "You should probably TRAIN this model on a down-stream task to be able to use it for predictions and inference.\n"
     ]
    },
    {
     "data": {
      "application/vnd.jupyter.widget-view+json": {
       "model_id": "45b471a1cd4b4a5192c63be0953982b1",
       "version_major": 2,
       "version_minor": 0
      },
      "text/plain": [
       "preprocessor_config.json:   0%|          | 0.00/215 [00:00<?, ?B/s]"
      ]
     },
     "metadata": {},
     "output_type": "display_data"
    }
   ],
   "source": [
    "# Use a pipeline as a high-level helper\n",
    "from transformers import pipeline\n",
    "\n",
    "pipe = pipeline(\"audio-classification\", model=\"dima806/english_accents_classification\")"
   ]
  },
  {
   "cell_type": "code",
   "execution_count": 18,
   "id": "8979f14f",
   "metadata": {},
   "outputs": [
    {
     "data": {
      "text/plain": [
       "[{'score': 0.7715168595314026, 'label': 'us'},\n",
       " {'score': 0.21601532399654388, 'label': 'canada'},\n",
       " {'score': 0.007344060577452183, 'label': 'australia'},\n",
       " {'score': 0.0031188959255814552, 'label': 'england'},\n",
       " {'score': 0.0020048893056809902, 'label': 'indian'}]"
      ]
     },
     "execution_count": 18,
     "metadata": {},
     "output_type": "execute_result"
    }
   ],
   "source": [
    "file_path = \"ravdess-emotional-speech-audio/audio_speech_actors_01-24/Actor_12/03-01-05-02-01-02-12.wav\"\n",
    "\n",
    "pipe(file_path)"
   ]
  },
  {
   "cell_type": "code",
   "execution_count": 20,
   "id": "aff0a0db",
   "metadata": {},
   "outputs": [
    {
     "name": "stdout",
     "output_type": "stream",
     "text": [
      "Collecting evaluate\n",
      "  Downloading evaluate-0.4.2-py3-none-any.whl.metadata (9.3 kB)\n",
      "Collecting datasets>=2.0.0 (from evaluate)\n",
      "  Downloading datasets-2.19.2-py3-none-any.whl.metadata (19 kB)\n",
      "Requirement already satisfied: numpy>=1.17 in c:\\users\\rodul\\anaconda3\\lib\\site-packages (from evaluate) (1.26.4)\n",
      "Requirement already satisfied: dill in c:\\users\\rodul\\anaconda3\\lib\\site-packages (from evaluate) (0.3.7)\n",
      "Requirement already satisfied: pandas in c:\\users\\rodul\\anaconda3\\lib\\site-packages (from evaluate) (2.1.4)\n",
      "Requirement already satisfied: requests>=2.19.0 in c:\\users\\rodul\\anaconda3\\lib\\site-packages (from evaluate) (2.31.0)\n",
      "Requirement already satisfied: tqdm>=4.62.1 in c:\\users\\rodul\\anaconda3\\lib\\site-packages (from evaluate) (4.65.0)\n",
      "Collecting xxhash (from evaluate)\n",
      "  Downloading xxhash-3.4.1-cp311-cp311-win_amd64.whl.metadata (12 kB)\n",
      "Collecting multiprocess (from evaluate)\n",
      "  Downloading multiprocess-0.70.16-py311-none-any.whl.metadata (7.2 kB)\n",
      "Requirement already satisfied: fsspec>=2021.05.0 in c:\\users\\rodul\\anaconda3\\lib\\site-packages (from fsspec[http]>=2021.05.0->evaluate) (2023.10.0)\n",
      "Requirement already satisfied: huggingface-hub>=0.7.0 in c:\\users\\rodul\\anaconda3\\lib\\site-packages (from evaluate) (0.23.2)\n",
      "Requirement already satisfied: packaging in c:\\users\\rodul\\anaconda3\\lib\\site-packages (from evaluate) (23.1)\n",
      "Requirement already satisfied: filelock in c:\\users\\rodul\\anaconda3\\lib\\site-packages (from datasets>=2.0.0->evaluate) (3.13.1)\n",
      "Requirement already satisfied: pyarrow>=12.0.0 in c:\\users\\rodul\\anaconda3\\lib\\site-packages (from datasets>=2.0.0->evaluate) (14.0.2)\n",
      "Collecting pyarrow-hotfix (from datasets>=2.0.0->evaluate)\n",
      "  Downloading pyarrow_hotfix-0.6-py3-none-any.whl.metadata (3.6 kB)\n",
      "Collecting requests>=2.19.0 (from evaluate)\n",
      "  Downloading requests-2.32.3-py3-none-any.whl.metadata (4.6 kB)\n",
      "Requirement already satisfied: aiohttp in c:\\users\\rodul\\anaconda3\\lib\\site-packages (from datasets>=2.0.0->evaluate) (3.9.3)\n",
      "Requirement already satisfied: pyyaml>=5.1 in c:\\users\\rodul\\anaconda3\\lib\\site-packages (from datasets>=2.0.0->evaluate) (6.0.1)\n",
      "Requirement already satisfied: typing-extensions>=3.7.4.3 in c:\\users\\rodul\\anaconda3\\lib\\site-packages (from huggingface-hub>=0.7.0->evaluate) (4.9.0)\n",
      "Requirement already satisfied: charset-normalizer<4,>=2 in c:\\users\\rodul\\anaconda3\\lib\\site-packages (from requests>=2.19.0->evaluate) (2.0.4)\n",
      "Requirement already satisfied: idna<4,>=2.5 in c:\\users\\rodul\\anaconda3\\lib\\site-packages (from requests>=2.19.0->evaluate) (3.4)\n",
      "Requirement already satisfied: urllib3<3,>=1.21.1 in c:\\users\\rodul\\anaconda3\\lib\\site-packages (from requests>=2.19.0->evaluate) (2.0.7)\n",
      "Requirement already satisfied: certifi>=2017.4.17 in c:\\users\\rodul\\anaconda3\\lib\\site-packages (from requests>=2.19.0->evaluate) (2024.2.2)\n",
      "Requirement already satisfied: colorama in c:\\users\\rodul\\anaconda3\\lib\\site-packages (from tqdm>=4.62.1->evaluate) (0.4.6)\n",
      "Collecting dill (from evaluate)\n",
      "  Downloading dill-0.3.8-py3-none-any.whl.metadata (10 kB)\n",
      "Requirement already satisfied: python-dateutil>=2.8.2 in c:\\users\\rodul\\anaconda3\\lib\\site-packages (from pandas->evaluate) (2.8.2)\n",
      "Requirement already satisfied: pytz>=2020.1 in c:\\users\\rodul\\anaconda3\\lib\\site-packages (from pandas->evaluate) (2023.3.post1)\n",
      "Requirement already satisfied: tzdata>=2022.1 in c:\\users\\rodul\\anaconda3\\lib\\site-packages (from pandas->evaluate) (2023.3)\n",
      "Requirement already satisfied: aiosignal>=1.1.2 in c:\\users\\rodul\\anaconda3\\lib\\site-packages (from aiohttp->datasets>=2.0.0->evaluate) (1.2.0)\n",
      "Requirement already satisfied: attrs>=17.3.0 in c:\\users\\rodul\\anaconda3\\lib\\site-packages (from aiohttp->datasets>=2.0.0->evaluate) (23.1.0)\n",
      "Requirement already satisfied: frozenlist>=1.1.1 in c:\\users\\rodul\\anaconda3\\lib\\site-packages (from aiohttp->datasets>=2.0.0->evaluate) (1.4.0)\n",
      "Requirement already satisfied: multidict<7.0,>=4.5 in c:\\users\\rodul\\anaconda3\\lib\\site-packages (from aiohttp->datasets>=2.0.0->evaluate) (6.0.4)\n",
      "Requirement already satisfied: yarl<2.0,>=1.0 in c:\\users\\rodul\\anaconda3\\lib\\site-packages (from aiohttp->datasets>=2.0.0->evaluate) (1.9.3)\n",
      "Requirement already satisfied: six>=1.5 in c:\\users\\rodul\\anaconda3\\lib\\site-packages (from python-dateutil>=2.8.2->pandas->evaluate) (1.16.0)\n",
      "Downloading evaluate-0.4.2-py3-none-any.whl (84 kB)\n",
      "   ---------------------------------------- 0.0/84.1 kB ? eta -:--:--\n",
      "   -------------------------------------- - 81.9/84.1 kB 2.3 MB/s eta 0:00:01\n",
      "   ---------------------------------------- 84.1/84.1 kB 2.4 MB/s eta 0:00:00\n",
      "Downloading datasets-2.19.2-py3-none-any.whl (542 kB)\n",
      "   ---------------------------------------- 0.0/542.1 kB ? eta -:--:--\n",
      "   ----------------- ---------------------- 235.5/542.1 kB 7.3 MB/s eta 0:00:01\n",
      "   ---------------------------------------- 542.1/542.1 kB 6.8 MB/s eta 0:00:00\n",
      "Downloading requests-2.32.3-py3-none-any.whl (64 kB)\n",
      "   ---------------------------------------- 0.0/64.9 kB ? eta -:--:--\n",
      "   ---------------------------------------- 64.9/64.9 kB 1.7 MB/s eta 0:00:00\n",
      "Downloading multiprocess-0.70.16-py311-none-any.whl (143 kB)\n",
      "   ---------------------------------------- 0.0/143.5 kB ? eta -:--:--\n",
      "   ---------------------------------------- 143.5/143.5 kB 4.3 MB/s eta 0:00:00\n",
      "Downloading dill-0.3.8-py3-none-any.whl (116 kB)\n",
      "   ---------------------------------------- 0.0/116.3 kB ? eta -:--:--\n",
      "   ---------------------------------------- 116.3/116.3 kB 7.1 MB/s eta 0:00:00\n",
      "Downloading xxhash-3.4.1-cp311-cp311-win_amd64.whl (29 kB)\n",
      "Downloading pyarrow_hotfix-0.6-py3-none-any.whl (7.9 kB)\n",
      "Installing collected packages: xxhash, requests, pyarrow-hotfix, dill, multiprocess, datasets, evaluate\n",
      "  Attempting uninstall: requests\n",
      "    Found existing installation: requests 2.31.0\n",
      "    Uninstalling requests-2.31.0:\n",
      "      Successfully uninstalled requests-2.31.0\n",
      "  Attempting uninstall: dill\n",
      "    Found existing installation: dill 0.3.7\n",
      "    Uninstalling dill-0.3.7:\n",
      "      Successfully uninstalled dill-0.3.7\n",
      "Successfully installed datasets-2.19.2 dill-0.3.8 evaluate-0.4.2 multiprocess-0.70.16 pyarrow-hotfix-0.6 requests-2.32.3 xxhash-3.4.1\n"
     ]
    },
    {
     "name": "stderr",
     "output_type": "stream",
     "text": [
      "ERROR: pip's dependency resolver does not currently take into account all the packages that are installed. This behaviour is the source of the following dependency conflicts.\n",
      "conda-repo-cli 1.0.75 requires requests_mock, which is not installed.\n",
      "conda-repo-cli 1.0.75 requires clyent==1.2.1, but you have clyent 1.2.2 which is incompatible.\n",
      "conda-repo-cli 1.0.75 requires requests==2.31.0, but you have requests 2.32.3 which is incompatible.\n"
     ]
    }
   ],
   "source": [
    "!pip install evaluate"
   ]
  },
  {
   "cell_type": "code",
   "execution_count": 1,
   "id": "d1a3e3c5",
   "metadata": {},
   "outputs": [
    {
     "name": "stdout",
     "output_type": "stream",
     "text": [
      "4.41.2\n",
      "2.3.0+cpu\n"
     ]
    }
   ],
   "source": [
    "# Import necessary libraries\n",
    "import pandas as pd  # Pandas for data manipulation\n",
    "import gc  # Garbage collection module\n",
    "import re  # Regular expressions for text processing\n",
    "import numpy as np  # NumPy for numerical operations\n",
    "\n",
    "# Suppress warnings\n",
    "import warnings \n",
    "warnings.filterwarnings(\"ignore\")\n",
    "\n",
    "# Import tqdm for progress tracking\n",
    "from tqdm import tqdm\n",
    "tqdm.pandas()\n",
    "\n",
    "# Import Path from pathlib for working with file paths\n",
    "from pathlib import Path\n",
    "\n",
    "# Import oversampling and undersampling methods from imblearn\n",
    "from imblearn.over_sampling import RandomOverSampler\n",
    "from imblearn.under_sampling import RandomUnderSampler\n",
    "\n",
    "# Import class_weight calculation function from scikit-learn\n",
    "from sklearn.utils.class_weight import compute_class_weight\n",
    "\n",
    "# Import matplotlib for data visualization\n",
    "import matplotlib.pyplot as plt\n",
    "\n",
    "# Import itertools for working with iterators\n",
    "import itertools\n",
    "\n",
    "# Import various metrics from scikit-learn\n",
    "from sklearn.metrics import (\n",
    "    accuracy_score,  # For calculating accuracy\n",
    "    roc_auc_score,   # For ROC AUC score\n",
    "    confusion_matrix,  # For confusion matrix\n",
    "    classification_report,  # For classification report\n",
    "    f1_score  # For F1 score\n",
    ")\n",
    "\n",
    "# Import PyTorch for deep learning\n",
    "import torch\n",
    "\n",
    "# Import the Hugging Face Transformers library\n",
    "import transformers\n",
    "\n",
    "# Print the version of the transformers library\n",
    "print(transformers.__version__)\n",
    "\n",
    "# Import torchaudio for audio processing with PyTorch\n",
    "import torchaudio\n",
    "\n",
    "# Print the version of torchaudio\n",
    "print(torchaudio.__version__)\n",
    "\n",
    "# Import a custom module named 'evaluate' for evaluation functions\n",
    "import evaluate\n",
    "\n",
    "# Import Audio for displaying audio clips in the notebook\n",
    "from IPython.display import Audio\n",
    "\n",
    "# Import various classes and modules from Hugging Face Transformers and Datasets\n",
    "from transformers import AutoFeatureExtractor, AutoModelForAudioClassification, pipeline, TrainingArguments, Trainer\n",
    "from datasets import Dataset, Image, ClassLabel  # Import custom 'Dataset', 'ClassLabel', and 'Image' classes"
   ]
  },
  {
   "cell_type": "code",
   "execution_count": 2,
   "id": "38ef9081",
   "metadata": {},
   "outputs": [],
   "source": [
    "# Define the resampling rate in Hertz (Hz) for audio data\n",
    "RATE_HZ = 16000\n",
    "\n",
    "# Define the maximum audio interval length to consider in seconds\n",
    "MAX_SECONDS = 1\n",
    "\n",
    "# Calculate the maximum audio interval length in samples by multiplying the rate and seconds\n",
    "MAX_LENGTH = RATE_HZ * MAX_SECONDS\n",
    "\n",
    "# Define the minimum number of records per label required for the dataset\n",
    "MIN_RECORDS_PER_LABEL = 25\n",
    "\n",
    "# Define the fraction of records to be used for testing data\n",
    "TEST_SIZE = 0.1\n",
    "\n",
    "# Ensure that the product of MIN_RECORDS_PER_LABEL and TEST_SIZE is greater than 2\n",
    "# This ensures a sufficient number of samples for testing"
   ]
  },
  {
   "cell_type": "code",
   "execution_count": 3,
   "id": "3a1cb88d",
   "metadata": {},
   "outputs": [
    {
     "name": "stdout",
     "output_type": "stream",
     "text": [
      "(67399, 2)\n"
     ]
    },
    {
     "data": {
      "text/html": [
       "<div>\n",
       "<style scoped>\n",
       "    .dataframe tbody tr th:only-of-type {\n",
       "        vertical-align: middle;\n",
       "    }\n",
       "\n",
       "    .dataframe tbody tr th {\n",
       "        vertical-align: top;\n",
       "    }\n",
       "\n",
       "    .dataframe thead th {\n",
       "        text-align: right;\n",
       "    }\n",
       "</style>\n",
       "<table border=\"1\" class=\"dataframe\">\n",
       "  <thead>\n",
       "    <tr style=\"text-align: right;\">\n",
       "      <th></th>\n",
       "      <th>63260</th>\n",
       "      <th>63100</th>\n",
       "      <th>35632</th>\n",
       "      <th>194036</th>\n",
       "      <th>125911</th>\n",
       "    </tr>\n",
       "  </thead>\n",
       "  <tbody>\n",
       "    <tr>\n",
       "      <th>filename</th>\n",
       "      <td>cv-valid-train/sample-063260.mp3</td>\n",
       "      <td>cv-valid-train/sample-063100.mp3</td>\n",
       "      <td>cv-valid-train/sample-035632.mp3</td>\n",
       "      <td>cv-valid-train/sample-194036.mp3</td>\n",
       "      <td>cv-valid-train/sample-125911.mp3</td>\n",
       "    </tr>\n",
       "    <tr>\n",
       "      <th>accent</th>\n",
       "      <td>england</td>\n",
       "      <td>england</td>\n",
       "      <td>england</td>\n",
       "      <td>england</td>\n",
       "      <td>australia</td>\n",
       "    </tr>\n",
       "  </tbody>\n",
       "</table>\n",
       "</div>"
      ],
      "text/plain": [
       "                                    63260                             63100   \\\n",
       "filename  cv-valid-train/sample-063260.mp3  cv-valid-train/sample-063100.mp3   \n",
       "accent                             england                           england   \n",
       "\n",
       "                                    35632                             194036  \\\n",
       "filename  cv-valid-train/sample-035632.mp3  cv-valid-train/sample-194036.mp3   \n",
       "accent                             england                           england   \n",
       "\n",
       "                                    125911  \n",
       "filename  cv-valid-train/sample-125911.mp3  \n",
       "accent                           australia  "
      ]
     },
     "execution_count": 3,
     "metadata": {},
     "output_type": "execute_result"
    }
   ],
   "source": [
    "df0 = pd.read_csv('cv-valid-train.csv', usecols=['filename', 'accent'])\n",
    "df1 = pd.read_csv('cv-valid-dev.csv', usecols=['filename', 'accent'])\n",
    "df2 = pd.read_csv('cv-valid-test.csv', usecols=['filename', 'accent'])\n",
    "dd = pd.concat([df0, df1, df2], axis=0)\n",
    "dd = dd[~dd['accent'].isnull()].drop_duplicates()\n",
    "print(dd.shape)\n",
    "dd.sample(5).T"
   ]
  },
  {
   "cell_type": "code",
   "execution_count": 4,
   "id": "be331eb2",
   "metadata": {},
   "outputs": [
    {
     "data": {
      "text/plain": [
       "accent\n",
       "us                32267\n",
       "england           15564\n",
       "indian             4670\n",
       "australia          4482\n",
       "canada             4084\n",
       "scotland           1619\n",
       "african            1220\n",
       "newzealand         1191\n",
       "ireland             981\n",
       "philippines         340\n",
       "wales               269\n",
       "bermuda             203\n",
       "malaysia            191\n",
       "singapore           126\n",
       "hongkong            104\n",
       "southatlandtic       88\n",
       "Name: count, dtype: int64"
      ]
     },
     "execution_count": 4,
     "metadata": {},
     "output_type": "execute_result"
    }
   ],
   "source": [
    "dd['accent'].value_counts()"
   ]
  },
  {
   "cell_type": "code",
   "execution_count": 5,
   "id": "eb1ab610",
   "metadata": {},
   "outputs": [],
   "source": [
    "# Define a function to load bird sound data from a specified directory.\n",
    "def load_data():\n",
    "    # Initialize empty lists to store file paths and corresponding labels.\n",
    "    file_list = []  # To store file paths\n",
    "    full_list = []  # To store labels\n",
    "\n",
    "    # Iterate through all the .mp3 files in the specified directory and its subdirectories.\n",
    "    for file in tqdm(Path('common-voice/').glob('cv-valid-*/*/*.mp3')):\n",
    "        # Extract the label from the file path by splitting the path and retrieving the second-to-last part.\n",
    "        # The label is assumed to be the second-to-last part, separated by '/' and '_' characters.\n",
    "        full_path = str(file)\n",
    "        #file_name = '/'.join(str(file).split('/')[-2:])\n",
    "        \n",
    "        file_name = '\\\\'.join(str(file).split('\\\\')[-2:])\n",
    "        # Replace backslashes with forward slashes\n",
    "        file_name = file_name.replace('\\\\', '/')\n",
    "        \n",
    "        # Append the current file path to the file_list and its corresponding label to the label_list.\n",
    "        file_list.append(file_name)\n",
    "        full_list.append(full_path)\n",
    "\n",
    "    # Create an empty DataFrame to organize the data.\n",
    "    df = pd.DataFrame()\n",
    "\n",
    "    # Create two columns in the DataFrame: 'file' to store file paths and 'label' to store labels.\n",
    "    df['filename'] = file_list\n",
    "    df['file'] = full_list\n",
    "\n",
    "    # Return the DataFrame containing the file paths and labels.\n",
    "    return df"
   ]
  },
  {
   "cell_type": "code",
   "execution_count": 6,
   "id": "2f37d156",
   "metadata": {},
   "outputs": [
    {
     "name": "stderr",
     "output_type": "stream",
     "text": [
      "3995it [00:00, 89953.86it/s]\n"
     ]
    },
    {
     "data": {
      "text/plain": [
       "(3995, 2)"
      ]
     },
     "execution_count": 6,
     "metadata": {},
     "output_type": "execute_result"
    }
   ],
   "source": [
    "df = load_data()\n",
    "df.shape"
   ]
  },
  {
   "cell_type": "code",
   "execution_count": 7,
   "id": "d6ba12d8",
   "metadata": {},
   "outputs": [
    {
     "data": {
      "text/html": [
       "<div>\n",
       "<style scoped>\n",
       "    .dataframe tbody tr th:only-of-type {\n",
       "        vertical-align: middle;\n",
       "    }\n",
       "\n",
       "    .dataframe tbody tr th {\n",
       "        vertical-align: top;\n",
       "    }\n",
       "\n",
       "    .dataframe thead th {\n",
       "        text-align: right;\n",
       "    }\n",
       "</style>\n",
       "<table border=\"1\" class=\"dataframe\">\n",
       "  <thead>\n",
       "    <tr style=\"text-align: right;\">\n",
       "      <th></th>\n",
       "      <th>filename</th>\n",
       "      <th>file</th>\n",
       "    </tr>\n",
       "  </thead>\n",
       "  <tbody>\n",
       "    <tr>\n",
       "      <th>0</th>\n",
       "      <td>cv-valid-test/sample-000000.mp3</td>\n",
       "      <td>common-voice\\cv-valid-test\\cv-valid-test\\sampl...</td>\n",
       "    </tr>\n",
       "    <tr>\n",
       "      <th>1</th>\n",
       "      <td>cv-valid-test/sample-000001.mp3</td>\n",
       "      <td>common-voice\\cv-valid-test\\cv-valid-test\\sampl...</td>\n",
       "    </tr>\n",
       "    <tr>\n",
       "      <th>2</th>\n",
       "      <td>cv-valid-test/sample-000002.mp3</td>\n",
       "      <td>common-voice\\cv-valid-test\\cv-valid-test\\sampl...</td>\n",
       "    </tr>\n",
       "    <tr>\n",
       "      <th>3</th>\n",
       "      <td>cv-valid-test/sample-000003.mp3</td>\n",
       "      <td>common-voice\\cv-valid-test\\cv-valid-test\\sampl...</td>\n",
       "    </tr>\n",
       "    <tr>\n",
       "      <th>4</th>\n",
       "      <td>cv-valid-test/sample-000004.mp3</td>\n",
       "      <td>common-voice\\cv-valid-test\\cv-valid-test\\sampl...</td>\n",
       "    </tr>\n",
       "  </tbody>\n",
       "</table>\n",
       "</div>"
      ],
      "text/plain": [
       "                          filename  \\\n",
       "0  cv-valid-test/sample-000000.mp3   \n",
       "1  cv-valid-test/sample-000001.mp3   \n",
       "2  cv-valid-test/sample-000002.mp3   \n",
       "3  cv-valid-test/sample-000003.mp3   \n",
       "4  cv-valid-test/sample-000004.mp3   \n",
       "\n",
       "                                                file  \n",
       "0  common-voice\\cv-valid-test\\cv-valid-test\\sampl...  \n",
       "1  common-voice\\cv-valid-test\\cv-valid-test\\sampl...  \n",
       "2  common-voice\\cv-valid-test\\cv-valid-test\\sampl...  \n",
       "3  common-voice\\cv-valid-test\\cv-valid-test\\sampl...  \n",
       "4  common-voice\\cv-valid-test\\cv-valid-test\\sampl...  "
      ]
     },
     "execution_count": 7,
     "metadata": {},
     "output_type": "execute_result"
    }
   ],
   "source": [
    "df.head()"
   ]
  },
  {
   "cell_type": "code",
   "execution_count": 8,
   "id": "34f40060",
   "metadata": {},
   "outputs": [],
   "source": [
    "# merge dataframes to get the label\n",
    "df = df.merge(dd, on='filename', how='inner')\n",
    "df.rename(columns={'accent': 'label'}, inplace=True)"
   ]
  },
  {
   "cell_type": "code",
   "execution_count": 9,
   "id": "11d1375c",
   "metadata": {},
   "outputs": [
    {
     "data": {
      "text/plain": [
       "(1338, 3)"
      ]
     },
     "execution_count": 9,
     "metadata": {},
     "output_type": "execute_result"
    }
   ],
   "source": [
    "df.shape"
   ]
  },
  {
   "cell_type": "code",
   "execution_count": 10,
   "id": "071bb893",
   "metadata": {},
   "outputs": [
    {
     "name": "stdout",
     "output_type": "stream",
     "text": [
      "['us', 'england', 'canada', 'australia', 'indian', 'scotland', 'african', 'ireland', 'newzealand', 'philippines', 'wales', 'hongkong', 'malaysia', 'bermuda', 'southatlandtic', 'singapore']\n"
     ]
    }
   ],
   "source": [
    "from collections import Counter\n",
    "labels = [lang for lang, _ in Counter(df['label']).most_common(35)] #selected all possible labels\n",
    "print(labels)"
   ]
  },
  {
   "cell_type": "code",
   "execution_count": 11,
   "id": "69e9c5d1",
   "metadata": {},
   "outputs": [
    {
     "name": "stdout",
     "output_type": "stream",
     "text": [
      "(1338, 3)\n"
     ]
    }
   ],
   "source": [
    "df = df[df['label'].isin(labels)]\n",
    "print(df.shape)"
   ]
  },
  {
   "cell_type": "code",
   "execution_count": 12,
   "id": "ead05f2c",
   "metadata": {},
   "outputs": [
    {
     "data": {
      "text/plain": [
       "array(['us', 'england', 'scotland', 'african', 'indian', 'canada',\n",
       "       'ireland', 'philippines', 'australia', 'newzealand', 'hongkong',\n",
       "       'wales', 'southatlandtic', 'malaysia', 'singapore', 'bermuda'],\n",
       "      dtype=object)"
      ]
     },
     "execution_count": 12,
     "metadata": {},
     "output_type": "execute_result"
    }
   ],
   "source": [
    "# Retrieve unique values in the 'label' column of the DataFrame 'df'\n",
    "unique_labels = df['label'].unique()\n",
    "unique_labels"
   ]
  },
  {
   "cell_type": "code",
   "execution_count": 13,
   "id": "ef4aaece",
   "metadata": {},
   "outputs": [
    {
     "name": "stdout",
     "output_type": "stream",
     "text": [
      "(706, 3)\n"
     ]
    }
   ],
   "source": [
    "# random undersampling of a majority class\n",
    "rus = RandomUnderSampler(random_state=83, sampling_strategy='majority')\n",
    "y = df[['label']]\n",
    "df = df.drop(['label'], axis=1)\n",
    "df, y_resampled = rus.fit_resample(df, y)\n",
    "del y\n",
    "df['label'] = y_resampled\n",
    "del y_resampled\n",
    "# # random oversampling of all minority classes\n",
    "# y = df[['label']]\n",
    "# df = df.drop(['label'], axis=1)\n",
    "# ros = RandomOverSampler(random_state=83)\n",
    "# df, y_resampled = ros.fit_resample(df, y)\n",
    "# del y\n",
    "# df['label'] = y_resampled\n",
    "# del y_resampled\n",
    "\n",
    "gc.collect()\n",
    "\n",
    "print(df.shape)"
   ]
  },
  {
   "cell_type": "code",
   "execution_count": 14,
   "id": "61275e7a",
   "metadata": {},
   "outputs": [
    {
     "name": "stderr",
     "output_type": "stream",
     "text": [
      "706it [00:36, 19.43it/s]\n"
     ]
    },
    {
     "data": {
      "text/html": [
       "<div>\n",
       "<style scoped>\n",
       "    .dataframe tbody tr th:only-of-type {\n",
       "        vertical-align: middle;\n",
       "    }\n",
       "\n",
       "    .dataframe tbody tr th {\n",
       "        vertical-align: top;\n",
       "    }\n",
       "\n",
       "    .dataframe thead th {\n",
       "        text-align: right;\n",
       "    }\n",
       "</style>\n",
       "<table border=\"1\" class=\"dataframe\">\n",
       "  <thead>\n",
       "    <tr style=\"text-align: right;\">\n",
       "      <th></th>\n",
       "      <th>audio</th>\n",
       "      <th>label</th>\n",
       "    </tr>\n",
       "  </thead>\n",
       "  <tbody>\n",
       "    <tr>\n",
       "      <th>5</th>\n",
       "      <td>[-0.018695373, -0.023779606, -0.025030367, -0....</td>\n",
       "      <td>african</td>\n",
       "    </tr>\n",
       "    <tr>\n",
       "      <th>6</th>\n",
       "      <td>[-0.02613479, -0.040804274, -0.036213156, -0.0...</td>\n",
       "      <td>england</td>\n",
       "    </tr>\n",
       "    <tr>\n",
       "      <th>4</th>\n",
       "      <td>[-0.1098164, -0.17445716, -0.13382559, -0.1111...</td>\n",
       "      <td>england</td>\n",
       "    </tr>\n",
       "    <tr>\n",
       "      <th>12</th>\n",
       "      <td>[0.006414087, 0.0077638864, -0.004817637, -0.0...</td>\n",
       "      <td>indian</td>\n",
       "    </tr>\n",
       "    <tr>\n",
       "      <th>4</th>\n",
       "      <td>[0.010138905, 0.02013308, 0.024344772, 0.02917...</td>\n",
       "      <td>scotland</td>\n",
       "    </tr>\n",
       "  </tbody>\n",
       "</table>\n",
       "</div>"
      ],
      "text/plain": [
       "                                                audio     label\n",
       "5   [-0.018695373, -0.023779606, -0.025030367, -0....   african\n",
       "6   [-0.02613479, -0.040804274, -0.036213156, -0.0...   england\n",
       "4   [-0.1098164, -0.17445716, -0.13382559, -0.1111...   england\n",
       "12  [0.006414087, 0.0077638864, -0.004817637, -0.0...    indian\n",
       "4   [0.010138905, 0.02013308, 0.024344772, 0.02917...  scotland"
      ]
     },
     "execution_count": 14,
     "metadata": {},
     "output_type": "execute_result"
    }
   ],
   "source": [
    "# Split files by chunks with == MAX_LENGTH size\n",
    "def split_audio(file):\n",
    "    try:\n",
    "        # Load the audio file using torchaudio and get its sample rate.\n",
    "        audio, rate = torchaudio.load(str(file))\n",
    "\n",
    "        # Calculate the number of segments based on the MAX_LENGTH\n",
    "        num_segments = (len(audio[0]) // MAX_LENGTH)  # Floor division to get segments\n",
    "\n",
    "        # Create an empty list to store segmented audio data\n",
    "        segmented_audio = []\n",
    "\n",
    "        # Split the audio into segments\n",
    "        for i in range(num_segments):\n",
    "            start = i * MAX_LENGTH\n",
    "            end = min((i + 1) * MAX_LENGTH, len(audio[0]))\n",
    "            segment = audio[0][start:end]\n",
    "\n",
    "            # Create a transformation to resample the audio to a specified sample rate (RATE_HZ).\n",
    "            transform = torchaudio.transforms.Resample(rate, RATE_HZ)\n",
    "            segment = transform(segment).squeeze(0).numpy().reshape(-1)\n",
    "\n",
    "            segmented_audio.append(segment)\n",
    "\n",
    "        # Create a DataFrame from the segmented audio\n",
    "        df_segments = pd.DataFrame({'audio': segmented_audio})\n",
    "\n",
    "        return df_segments\n",
    "\n",
    "    except Exception as e:\n",
    "        # If an exception occurs (e.g., file not found), return nothing\n",
    "        print(f\"Error processing file: {e}\")\n",
    "        return None\n",
    "    \n",
    "df_list = []\n",
    "for input_file, input_label in tqdm(zip(df['file'].values, df['label'].values)):\n",
    "    resulting_df = split_audio(input_file)\n",
    "    if resulting_df is not None:\n",
    "        resulting_df['label'] = input_label\n",
    "        df_list.append(resulting_df)\n",
    "df = pd.concat(df_list, axis=0)\n",
    "df.sample(5)"
   ]
  },
  {
   "cell_type": "code",
   "execution_count": 15,
   "id": "bad75499",
   "metadata": {},
   "outputs": [],
   "source": [
    "# Selecting rows in the DataFrame where the 'audio' column is not null (contains non-missing values).\n",
    "df = df[~df['audio'].isnull()]"
   ]
  },
  {
   "cell_type": "code",
   "execution_count": 16,
   "id": "1fa67f27",
   "metadata": {},
   "outputs": [
    {
     "name": "stdout",
     "output_type": "stream",
     "text": [
      "<class 'pandas.core.frame.DataFrame'>\n",
      "Index: 8506 entries, 0 to 13\n",
      "Data columns (total 2 columns):\n",
      " #   Column  Non-Null Count  Dtype \n",
      "---  ------  --------------  ----- \n",
      " 0   audio   8506 non-null   object\n",
      " 1   label   8506 non-null   object\n",
      "dtypes: object(2)\n",
      "memory usage: 199.4+ KB\n"
     ]
    }
   ],
   "source": [
    "df.info()"
   ]
  },
  {
   "cell_type": "code",
   "execution_count": 17,
   "id": "cecd66c7",
   "metadata": {},
   "outputs": [],
   "source": [
    "# Removing the 'file' column from the DataFrame 'df'\n",
    "if 'file' in df.columns:\n",
    "    df = df.drop(['file'], axis=1)"
   ]
  },
  {
   "cell_type": "code",
   "execution_count": 18,
   "id": "4fdaf2bf",
   "metadata": {},
   "outputs": [
    {
     "name": "stdout",
     "output_type": "stream",
     "text": [
      "['african' 'australia' 'bermuda' 'canada' 'england' 'hongkong' 'indian'\n",
      " 'ireland' 'malaysia' 'newzealand' 'philippines' 'scotland' 'singapore'\n",
      " 'southatlandtic' 'us' 'wales']\n",
      "{'african': 1.591691616766467, 'australia': 0.5258407517309595, 'bermuda': 11.311170212765957, 'canada': 0.3949665676077266, 'england': 0.14812621900250766, 'hongkong': 12.363372093023257, 'indian': 0.4755143112701252, 'ireland': 2.331688596491228, 'malaysia': 8.306640625, 'newzealand': 2.7403350515463916, 'philippines': 4.467436974789916, 'scotland': 1.7149193548387096, 'singapore': 44.302083333333336, 'southatlandtic': 31.272058823529413, 'us': 59.06944444444444, 'wales': 8.178846153846154}\n"
     ]
    }
   ],
   "source": [
    "# Identify the unique classes in the training data.\n",
    "classes = np.unique(df[['label']])\n",
    "\n",
    "print(classes)\n",
    "\n",
    "# Calculate class weights using the 'balanced' option, which automatically adjusts for class imbalance.\n",
    "weights = compute_class_weight(class_weight='balanced', classes=classes, y=df['label'])\n",
    "\n",
    "# Create a dictionary mapping each class to its respective class weight.\n",
    "class_weights = dict(zip(classes, weights))\n",
    "\n",
    "# Print the computed class weights to the console.\n",
    "print(class_weights)"
   ]
  },
  {
   "cell_type": "code",
   "execution_count": 19,
   "id": "53b02cec",
   "metadata": {},
   "outputs": [],
   "source": [
    "# Create a dataset from the Pandas DataFrame 'df'\n",
    "dataset = Dataset.from_pandas(df)"
   ]
  },
  {
   "cell_type": "code",
   "execution_count": 20,
   "id": "a3e0f50a",
   "metadata": {},
   "outputs": [],
   "source": [
    "# Create a list of unique labels\n",
    "labels_list = ['african', 'australia', 'bermuda', 'canada', 'england', 'hongkong', 'indian',\n",
    " 'ireland', 'malaysia', 'newzealand', 'philippines', 'scotland', 'singapore',\n",
    " 'southatlandtic', 'us', 'wales'] #sorted(list(df['label'].unique()))\n"
   ]
  },
  {
   "cell_type": "code",
   "execution_count": 21,
   "id": "b6e1416b",
   "metadata": {},
   "outputs": [
    {
     "name": "stdout",
     "output_type": "stream",
     "text": [
      "Mapping of IDs to Labels: {0: 'african', 1: 'australia', 2: 'bermuda', 3: 'canada', 4: 'england', 5: 'hongkong', 6: 'indian', 7: 'ireland', 8: 'malaysia', 9: 'newzealand', 10: 'philippines', 11: 'scotland', 12: 'singapore', 13: 'southatlandtic', 14: 'us', 15: 'wales'} \n",
      "\n",
      "Mapping of Labels to IDs: {'african': 0, 'australia': 1, 'bermuda': 2, 'canada': 3, 'england': 4, 'hongkong': 5, 'indian': 6, 'ireland': 7, 'malaysia': 8, 'newzealand': 9, 'philippines': 10, 'scotland': 11, 'singapore': 12, 'southatlandtic': 13, 'us': 14, 'wales': 15}\n"
     ]
    }
   ],
   "source": [
    "# Initialize empty dictionaries to map labels to IDs and vice versa\n",
    "label2id, id2label = dict(), dict()\n",
    "\n",
    "# Iterate over the unique labels and assign each label an ID, and vice versa\n",
    "for i, label in enumerate(labels_list):\n",
    "    label2id[label] = i  # Map the label to its corresponding ID\n",
    "    id2label[i] = label  # Map the ID to its corresponding label\n",
    "\n",
    "# Print the resulting dictionaries for reference\n",
    "print(\"Mapping of IDs to Labels:\", id2label, '\\n')\n",
    "print(\"Mapping of Labels to IDs:\", label2id)"
   ]
  },
  {
   "cell_type": "code",
   "execution_count": 22,
   "id": "4a49c74f",
   "metadata": {},
   "outputs": [
    {
     "data": {
      "application/vnd.jupyter.widget-view+json": {
       "model_id": "cb3d4a55a7bc49d48d5dc865c5b6877e",
       "version_major": 2,
       "version_minor": 0
      },
      "text/plain": [
       "Map:   0%|          | 0/8506 [00:00<?, ? examples/s]"
      ]
     },
     "metadata": {},
     "output_type": "display_data"
    },
    {
     "data": {
      "application/vnd.jupyter.widget-view+json": {
       "model_id": "8d4d8544e0374258b4970c947ffab920",
       "version_major": 2,
       "version_minor": 0
      },
      "text/plain": [
       "Casting the dataset:   0%|          | 0/8506 [00:00<?, ? examples/s]"
      ]
     },
     "metadata": {},
     "output_type": "display_data"
    }
   ],
   "source": [
    "# Creating classlabels to match labels to IDs\n",
    "ClassLabels = ClassLabel(num_classes=len(labels_list), names=labels_list)\n",
    "\n",
    "# Mapping labels to IDs\n",
    "def map_label2id(example):\n",
    "    example['label'] = ClassLabels.str2int(example['label'])\n",
    "    return example\n",
    "\n",
    "dataset = dataset.map(map_label2id, batched=True)\n",
    "\n",
    "# Casting label column to ClassLabel Object\n",
    "dataset = dataset.cast_column('label', ClassLabels)\n",
    "\n",
    "# Splitting the dataset into training and testing sets using the predefined train/test split ratio.\n",
    "dataset = dataset.train_test_split(test_size=TEST_SIZE, shuffle=True, stratify_by_column=\"label\")"
   ]
  },
  {
   "cell_type": "code",
   "execution_count": 28,
   "id": "1efee1a1",
   "metadata": {},
   "outputs": [
    {
     "name": "stderr",
     "output_type": "stream",
     "text": [
      "Some weights of the model checkpoint at dima806/english_accents_classification were not used when initializing Wav2Vec2ForSequenceClassification: ['wav2vec2.encoder.pos_conv_embed.conv.weight_g', 'wav2vec2.encoder.pos_conv_embed.conv.weight_v']\n",
      "- This IS expected if you are initializing Wav2Vec2ForSequenceClassification from the checkpoint of a model trained on another task or with another architecture (e.g. initializing a BertForSequenceClassification model from a BertForPreTraining model).\n",
      "- This IS NOT expected if you are initializing Wav2Vec2ForSequenceClassification from the checkpoint of a model that you expect to be exactly identical (initializing a BertForSequenceClassification model from a BertForSequenceClassification model).\n",
      "Some weights of Wav2Vec2ForSequenceClassification were not initialized from the model checkpoint at dima806/english_accents_classification and are newly initialized: ['wav2vec2.encoder.pos_conv_embed.conv.parametrizations.weight.original0', 'wav2vec2.encoder.pos_conv_embed.conv.parametrizations.weight.original1']\n",
      "You should probably TRAIN this model on a down-stream task to be able to use it for predictions and inference.\n",
      "Some weights of Wav2Vec2ForSequenceClassification were not initialized from the model checkpoint at dima806/english_accents_classification and are newly initialized because the shapes did not match:\n",
      "- classifier.bias: found shape torch.Size([5]) in the checkpoint and torch.Size([16]) in the model instantiated\n",
      "- classifier.weight: found shape torch.Size([5, 256]) in the checkpoint and torch.Size([16, 256]) in the model instantiated\n",
      "You should probably TRAIN this model on a down-stream task to be able to use it for predictions and inference.\n"
     ]
    },
    {
     "name": "stdout",
     "output_type": "stream",
     "text": [
      "94.572688\n"
     ]
    }
   ],
   "source": [
    "from transformers import AutoFeatureExtractor, AutoModelForAudioClassification\n",
    "\n",
    "model_str = \"dima806/english_accents_classification\" #\"facebook/wav2vec2-base-960h\" \n",
    "feature_extractor=AutoFeatureExtractor.from_pretrained(model_str)\n",
    "model=AutoModelForAudioClassification.from_pretrained(model_str,num_labels=len(labels),ignore_mismatched_sizes=True)\n",
    "model.config.id2label = id2label\n",
    "# number of trainable parameters\n",
    "print(model.num_parameters(only_trainable=True)/1e6)"
   ]
  },
  {
   "cell_type": "code",
   "execution_count": 24,
   "id": "acca6f92",
   "metadata": {},
   "outputs": [
    {
     "data": {
      "application/vnd.jupyter.widget-view+json": {
       "model_id": "8888e65435ef452fa9a401743fcd19e8",
       "version_major": 2,
       "version_minor": 0
      },
      "text/plain": [
       "Map:   0%|          | 0/7655 [00:00<?, ? examples/s]"
      ]
     },
     "metadata": {},
     "output_type": "display_data"
    },
    {
     "data": {
      "application/vnd.jupyter.widget-view+json": {
       "model_id": "2e296b451f2740d391895d0cbaaef477",
       "version_major": 2,
       "version_minor": 0
      },
      "text/plain": [
       "Map:   0%|          | 0/851 [00:00<?, ? examples/s]"
      ]
     },
     "metadata": {},
     "output_type": "display_data"
    },
    {
     "data": {
      "text/plain": [
       "49"
      ]
     },
     "execution_count": 24,
     "metadata": {},
     "output_type": "execute_result"
    }
   ],
   "source": [
    "def preprocess_function(batch):    \n",
    "    inputs = feature_extractor(batch['audio'], sampling_rate=RATE_HZ, max_length=MAX_LENGTH, truncation=True)\n",
    "    inputs['input_values'] = inputs['input_values'][0]\n",
    "    return inputs\n",
    "\n",
    "dataset['train'] = dataset['train'].map(preprocess_function, remove_columns=\"audio\", batched=False)\n",
    "gc.collect()\n",
    "dataset['test'] = dataset['test'].map(preprocess_function, remove_columns=\"audio\", batched=False)\n",
    "gc.collect()"
   ]
  },
  {
   "cell_type": "code",
   "execution_count": 25,
   "id": "de7c552c",
   "metadata": {},
   "outputs": [],
   "source": [
    "import evaluate\n",
    "\n",
    "accuracy = evaluate.load(\"accuracy\")\n",
    "\n",
    "from sklearn.metrics import roc_auc_score\n",
    "def compute_metrics(eval_pred):\n",
    "    # Compute the ROC AUC score\n",
    "    predictions = eval_pred.predictions\n",
    "    predictions = np.exp(predictions)/np.exp(predictions).sum(axis=1, keepdims=True)\n",
    "    label_ids = eval_pred.label_ids\n",
    "    roc_auc = roc_auc_score(label_ids, predictions, average='macro', multi_class='ovr')\n",
    "    \n",
    "    # Calculate accuracy using the loaded accuracy metric\n",
    "    acc_score = accuracy.compute(predictions=predictions.argmax(axis=1), references=label_ids)['accuracy']\n",
    "    \n",
    "    return {\n",
    "        \"roc_auc\": roc_auc,\n",
    "        \"accuracy\": acc_score\n",
    "    }"
   ]
  },
  {
   "cell_type": "code",
   "execution_count": 111,
   "id": "1e1a0d8c",
   "metadata": {},
   "outputs": [
    {
     "name": "stdout",
     "output_type": "stream",
     "text": [
      "Requirement already satisfied: transformers[torch] in c:\\users\\rodul\\anaconda3\\lib\\site-packages (4.41.2)Note: you may need to restart the kernel to use updated packages.\n",
      "\n",
      "Requirement already satisfied: filelock in c:\\users\\rodul\\anaconda3\\lib\\site-packages (from transformers[torch]) (3.13.1)\n",
      "Requirement already satisfied: huggingface-hub<1.0,>=0.23.0 in c:\\users\\rodul\\anaconda3\\lib\\site-packages (from transformers[torch]) (0.23.2)\n",
      "Requirement already satisfied: numpy>=1.17 in c:\\users\\rodul\\anaconda3\\lib\\site-packages (from transformers[torch]) (1.26.4)\n",
      "Requirement already satisfied: packaging>=20.0 in c:\\users\\rodul\\anaconda3\\lib\\site-packages (from transformers[torch]) (23.1)\n",
      "Requirement already satisfied: pyyaml>=5.1 in c:\\users\\rodul\\anaconda3\\lib\\site-packages (from transformers[torch]) (6.0.1)\n",
      "Requirement already satisfied: regex!=2019.12.17 in c:\\users\\rodul\\anaconda3\\lib\\site-packages (from transformers[torch]) (2023.10.3)\n",
      "Requirement already satisfied: requests in c:\\users\\rodul\\anaconda3\\lib\\site-packages (from transformers[torch]) (2.32.3)\n",
      "Requirement already satisfied: tokenizers<0.20,>=0.19 in c:\\users\\rodul\\anaconda3\\lib\\site-packages (from transformers[torch]) (0.19.1)\n",
      "Requirement already satisfied: safetensors>=0.4.1 in c:\\users\\rodul\\anaconda3\\lib\\site-packages (from transformers[torch]) (0.4.3)\n",
      "Requirement already satisfied: tqdm>=4.27 in c:\\users\\rodul\\anaconda3\\lib\\site-packages (from transformers[torch]) (4.65.0)\n",
      "Requirement already satisfied: torch in c:\\users\\rodul\\anaconda3\\lib\\site-packages (from transformers[torch]) (2.3.0)\n",
      "Collecting accelerate>=0.21.0 (from transformers[torch])\n",
      "  Downloading accelerate-0.30.1-py3-none-any.whl.metadata (18 kB)\n",
      "Requirement already satisfied: psutil in c:\\users\\rodul\\anaconda3\\lib\\site-packages (from accelerate>=0.21.0->transformers[torch]) (5.9.0)\n",
      "Requirement already satisfied: fsspec>=2023.5.0 in c:\\users\\rodul\\anaconda3\\lib\\site-packages (from huggingface-hub<1.0,>=0.23.0->transformers[torch]) (2023.10.0)\n",
      "Requirement already satisfied: typing-extensions>=3.7.4.3 in c:\\users\\rodul\\anaconda3\\lib\\site-packages (from huggingface-hub<1.0,>=0.23.0->transformers[torch]) (4.9.0)\n",
      "Requirement already satisfied: sympy in c:\\users\\rodul\\anaconda3\\lib\\site-packages (from torch->transformers[torch]) (1.12)\n",
      "Requirement already satisfied: networkx in c:\\users\\rodul\\anaconda3\\lib\\site-packages (from torch->transformers[torch]) (3.1)\n",
      "Requirement already satisfied: jinja2 in c:\\users\\rodul\\anaconda3\\lib\\site-packages (from torch->transformers[torch]) (3.1.3)\n",
      "Requirement already satisfied: mkl<=2021.4.0,>=2021.1.1 in c:\\users\\rodul\\anaconda3\\lib\\site-packages (from torch->transformers[torch]) (2021.4.0)\n",
      "Requirement already satisfied: colorama in c:\\users\\rodul\\anaconda3\\lib\\site-packages (from tqdm>=4.27->transformers[torch]) (0.4.6)\n",
      "Requirement already satisfied: charset-normalizer<4,>=2 in c:\\users\\rodul\\anaconda3\\lib\\site-packages (from requests->transformers[torch]) (2.0.4)\n",
      "Requirement already satisfied: idna<4,>=2.5 in c:\\users\\rodul\\anaconda3\\lib\\site-packages (from requests->transformers[torch]) (3.4)\n",
      "Requirement already satisfied: urllib3<3,>=1.21.1 in c:\\users\\rodul\\anaconda3\\lib\\site-packages (from requests->transformers[torch]) (2.0.7)\n",
      "Requirement already satisfied: certifi>=2017.4.17 in c:\\users\\rodul\\anaconda3\\lib\\site-packages (from requests->transformers[torch]) (2024.2.2)\n",
      "Requirement already satisfied: intel-openmp==2021.* in c:\\users\\rodul\\anaconda3\\lib\\site-packages (from mkl<=2021.4.0,>=2021.1.1->torch->transformers[torch]) (2021.4.0)\n",
      "Requirement already satisfied: tbb==2021.* in c:\\users\\rodul\\anaconda3\\lib\\site-packages (from mkl<=2021.4.0,>=2021.1.1->torch->transformers[torch]) (2021.12.0)\n",
      "Requirement already satisfied: MarkupSafe>=2.0 in c:\\users\\rodul\\anaconda3\\lib\\site-packages (from jinja2->torch->transformers[torch]) (2.1.3)\n",
      "Requirement already satisfied: mpmath>=0.19 in c:\\users\\rodul\\anaconda3\\lib\\site-packages (from sympy->torch->transformers[torch]) (1.3.0)\n",
      "Downloading accelerate-0.30.1-py3-none-any.whl (302 kB)\n",
      "   ---------------------------------------- 0.0/302.6 kB ? eta -:--:--\n",
      "   --- ----------------------------------- 30.7/302.6 kB 660.6 kB/s eta 0:00:01\n",
      "   ---------------- ----------------------- 122.9/302.6 kB 1.8 MB/s eta 0:00:01\n",
      "   ---------------------------------------- 302.6/302.6 kB 2.7 MB/s eta 0:00:00\n",
      "Installing collected packages: accelerate\n",
      "Successfully installed accelerate-0.30.1\n"
     ]
    }
   ],
   "source": [
    "!pip install transformers[torch]"
   ]
  },
  {
   "cell_type": "code",
   "execution_count": 113,
   "id": "0a786f95",
   "metadata": {},
   "outputs": [
    {
     "name": "stdout",
     "output_type": "stream",
     "text": [
      "Requirement already satisfied: accelerate in c:\\users\\rodul\\anaconda3\\lib\\site-packages (0.30.1)\n",
      "Requirement already satisfied: numpy>=1.17 in c:\\users\\rodul\\anaconda3\\lib\\site-packages (from accelerate) (1.26.4)\n",
      "Requirement already satisfied: packaging>=20.0 in c:\\users\\rodul\\anaconda3\\lib\\site-packages (from accelerate) (23.1)\n",
      "Requirement already satisfied: psutil in c:\\users\\rodul\\anaconda3\\lib\\site-packages (from accelerate) (5.9.0)\n",
      "Requirement already satisfied: pyyaml in c:\\users\\rodul\\anaconda3\\lib\\site-packages (from accelerate) (6.0.1)\n",
      "Requirement already satisfied: torch>=1.10.0 in c:\\users\\rodul\\anaconda3\\lib\\site-packages (from accelerate) (2.3.0)\n",
      "Requirement already satisfied: huggingface-hub in c:\\users\\rodul\\anaconda3\\lib\\site-packages (from accelerate) (0.23.2)\n",
      "Requirement already satisfied: safetensors>=0.3.1 in c:\\users\\rodul\\anaconda3\\lib\\site-packages (from accelerate) (0.4.3)\n",
      "Requirement already satisfied: filelock in c:\\users\\rodul\\anaconda3\\lib\\site-packages (from torch>=1.10.0->accelerate) (3.13.1)\n",
      "Requirement already satisfied: typing-extensions>=4.8.0 in c:\\users\\rodul\\anaconda3\\lib\\site-packages (from torch>=1.10.0->accelerate) (4.9.0)\n",
      "Requirement already satisfied: sympy in c:\\users\\rodul\\anaconda3\\lib\\site-packages (from torch>=1.10.0->accelerate) (1.12)\n",
      "Requirement already satisfied: networkx in c:\\users\\rodul\\anaconda3\\lib\\site-packages (from torch>=1.10.0->accelerate) (3.1)\n",
      "Requirement already satisfied: jinja2 in c:\\users\\rodul\\anaconda3\\lib\\site-packages (from torch>=1.10.0->accelerate) (3.1.3)\n",
      "Requirement already satisfied: fsspec in c:\\users\\rodul\\anaconda3\\lib\\site-packages (from torch>=1.10.0->accelerate) (2023.10.0)\n",
      "Requirement already satisfied: mkl<=2021.4.0,>=2021.1.1 in c:\\users\\rodul\\anaconda3\\lib\\site-packages (from torch>=1.10.0->accelerate) (2021.4.0)\n",
      "Requirement already satisfied: requests in c:\\users\\rodul\\anaconda3\\lib\\site-packages (from huggingface-hub->accelerate) (2.32.3)\n",
      "Requirement already satisfied: tqdm>=4.42.1 in c:\\users\\rodul\\anaconda3\\lib\\site-packages (from huggingface-hub->accelerate) (4.65.0)\n",
      "Requirement already satisfied: intel-openmp==2021.* in c:\\users\\rodul\\anaconda3\\lib\\site-packages (from mkl<=2021.4.0,>=2021.1.1->torch>=1.10.0->accelerate) (2021.4.0)\n",
      "Requirement already satisfied: tbb==2021.* in c:\\users\\rodul\\anaconda3\\lib\\site-packages (from mkl<=2021.4.0,>=2021.1.1->torch>=1.10.0->accelerate) (2021.12.0)\n",
      "Requirement already satisfied: colorama in c:\\users\\rodul\\anaconda3\\lib\\site-packages (from tqdm>=4.42.1->huggingface-hub->accelerate) (0.4.6)\n",
      "Requirement already satisfied: MarkupSafe>=2.0 in c:\\users\\rodul\\anaconda3\\lib\\site-packages (from jinja2->torch>=1.10.0->accelerate) (2.1.3)\n",
      "Requirement already satisfied: charset-normalizer<4,>=2 in c:\\users\\rodul\\anaconda3\\lib\\site-packages (from requests->huggingface-hub->accelerate) (2.0.4)\n",
      "Requirement already satisfied: idna<4,>=2.5 in c:\\users\\rodul\\anaconda3\\lib\\site-packages (from requests->huggingface-hub->accelerate) (3.4)\n",
      "Requirement already satisfied: urllib3<3,>=1.21.1 in c:\\users\\rodul\\anaconda3\\lib\\site-packages (from requests->huggingface-hub->accelerate) (2.0.7)\n",
      "Requirement already satisfied: certifi>=2017.4.17 in c:\\users\\rodul\\anaconda3\\lib\\site-packages (from requests->huggingface-hub->accelerate) (2024.2.2)\n",
      "Requirement already satisfied: mpmath>=0.19 in c:\\users\\rodul\\anaconda3\\lib\\site-packages (from sympy->torch>=1.10.0->accelerate) (1.3.0)\n"
     ]
    }
   ],
   "source": [
    "!pip install accelerate -U"
   ]
  },
  {
   "cell_type": "code",
   "execution_count": 115,
   "id": "70058ad1",
   "metadata": {},
   "outputs": [],
   "source": [
    "# Install the 'mlflow' library quietly (-q).\n",
    "!pip install -q mlflow"
   ]
  },
  {
   "cell_type": "code",
   "execution_count": 29,
   "id": "08655eb7",
   "metadata": {},
   "outputs": [
    {
     "data": {
      "text/html": [
       "\n",
       "    <div>\n",
       "      \n",
       "      <progress value='957' max='957' style='width:300px; height:20px; vertical-align: middle;'></progress>\n",
       "      [957/957 2:11:17, Epoch 1/1]\n",
       "    </div>\n",
       "    <table border=\"1\" class=\"dataframe\">\n",
       "  <thead>\n",
       " <tr style=\"text-align: left;\">\n",
       "      <th>Epoch</th>\n",
       "      <th>Training Loss</th>\n",
       "      <th>Validation Loss</th>\n",
       "      <th>Roc Auc</th>\n",
       "      <th>Accuracy</th>\n",
       "    </tr>\n",
       "  </thead>\n",
       "  <tbody>\n",
       "    <tr>\n",
       "      <td>1</td>\n",
       "      <td>2.113600</td>\n",
       "      <td>2.329789</td>\n",
       "      <td>0.507474</td>\n",
       "      <td>0.425382</td>\n",
       "    </tr>\n",
       "  </tbody>\n",
       "</table><p>"
      ],
      "text/plain": [
       "<IPython.core.display.HTML object>"
      ]
     },
     "metadata": {},
     "output_type": "display_data"
    },
    {
     "ename": "SyntaxError",
     "evalue": "'return' outside function (1057819902.py, line 38)",
     "output_type": "error",
     "traceback": [
      "\u001b[1;36m  Cell \u001b[1;32mIn[29], line 38\u001b[1;36m\u001b[0m\n\u001b[1;33m    return {\u001b[0m\n\u001b[1;37m    ^\u001b[0m\n\u001b[1;31mSyntaxError\u001b[0m\u001b[1;31m:\u001b[0m 'return' outside function\n"
     ]
    }
   ],
   "source": [
    "from transformers import Trainer, TrainingArguments\n",
    "batch_size=8\n",
    "warmup_steps=50\n",
    "weight_decay=0.02\n",
    "num_train_epochs=1\n",
    "model_name = \"english_accents_classification\"\n",
    "training_args = TrainingArguments(\n",
    "    output_dir=model_name,\n",
    "    logging_dir='./logs',\n",
    "    num_train_epochs=num_train_epochs,\n",
    "    per_device_train_batch_size=batch_size,\n",
    "    per_device_eval_batch_size=batch_size,\n",
    "    learning_rate=1e-6, # 3e-5\n",
    "    logging_strategy='steps',\n",
    "    logging_first_step=True,\n",
    "    load_best_model_at_end=True,\n",
    "    logging_steps=1,\n",
    "    evaluation_strategy='epoch',\n",
    "    warmup_steps=warmup_steps,\n",
    "    weight_decay=weight_decay,\n",
    "    eval_steps=1,\n",
    "    gradient_accumulation_steps=1, \n",
    "    gradient_checkpointing=True,\n",
    "    save_strategy='epoch',\n",
    "    save_total_limit=1, # save fewer checkpoints to limit used space\n",
    "    #report_to=\"mlflow\",  # log to mlflow\n",
    ")\n",
    "\n",
    "trainer = Trainer(\n",
    "    model=model,\n",
    "    args=training_args,\n",
    "    train_dataset=dataset[\"train\"],\n",
    "    eval_dataset=dataset[\"test\"],\n",
    "    #tokenizer=feature_extractor,\n",
    "    compute_metrics=compute_metrics,\n",
    ")\n",
    "trainer.train()\n"
   ]
  },
  {
   "cell_type": "code",
   "execution_count": 30,
   "id": "ec9e5659",
   "metadata": {},
   "outputs": [
    {
     "data": {
      "text/html": [],
      "text/plain": [
       "<IPython.core.display.HTML object>"
      ]
     },
     "metadata": {},
     "output_type": "display_data"
    },
    {
     "name": "stdout",
     "output_type": "stream",
     "text": [
      "{'test_loss': 2.3297886848449707, 'test_roc_auc': 0.5074741237275245, 'test_accuracy': 0.42538190364277323, 'test_runtime': 78.5641, 'test_samples_per_second': 10.832, 'test_steps_per_second': 1.362}\n"
     ]
    }
   ],
   "source": [
    "# Use the trained 'trainer' to make predictions on the test dataset.\n",
    "outputs = trainer.predict(dataset[\"test\"])\n",
    "\n",
    "# Print the metrics obtained from the prediction outputs.\n",
    "print(outputs.metrics)"
   ]
  },
  {
   "cell_type": "code",
   "execution_count": 31,
   "id": "804a6836",
   "metadata": {},
   "outputs": [
    {
     "name": "stdout",
     "output_type": "stream",
     "text": [
      "Accuracy: 0.4254\n",
      "F1 Score: 0.0565\n"
     ]
    },
    {
     "data": {
      "image/png": "[encoded data removed]",
      "text/plain": [
       "<Figure size 800x600 with 2 Axes>"
      ]
     },
     "metadata": {},
     "output_type": "display_data"
    },
    {
     "name": "stdout",
     "output_type": "stream",
     "text": [
      "\n",
      "Classification report:\n",
      "\n",
      "                precision    recall  f1-score   support\n",
      "\n",
      "            us     0.0000    0.0000    0.0000        33\n",
      "       england     0.0000    0.0000    0.0000       101\n",
      "        canada     0.0000    0.0000    0.0000         5\n",
      "     australia     0.0000    0.0000    0.0000       135\n",
      "        indian     0.4286    0.9443    0.5896       359\n",
      "      scotland     0.0000    0.0000    0.0000         4\n",
      "       african     0.6765    0.2054    0.3151       112\n",
      "       ireland     0.0000    0.0000    0.0000        23\n",
      "    newzealand     0.0000    0.0000    0.0000         6\n",
      "   philippines     0.0000    0.0000    0.0000        19\n",
      "         wales     0.0000    0.0000    0.0000        12\n",
      "      hongkong     0.0000    0.0000    0.0000        31\n",
      "      malaysia     0.0000    0.0000    0.0000         1\n",
      "       bermuda     0.0000    0.0000    0.0000         2\n",
      "southatlandtic     0.0000    0.0000    0.0000         1\n",
      "     singapore     0.0000    0.0000    0.0000         7\n",
      "\n",
      "      accuracy                         0.4254       851\n",
      "     macro avg     0.0691    0.0719    0.0565       851\n",
      "  weighted avg     0.2698    0.4254    0.2902       851\n",
      "\n"
     ]
    }
   ],
   "source": [
    "# Extract the true labels from the model outputs\n",
    "y_true = outputs.label_ids\n",
    "\n",
    "# Predict the labels by selecting the class with the highest probability\n",
    "y_pred = outputs.predictions.argmax(1)\n",
    "\n",
    "# Define a function to plot a confusion matrix\n",
    "def plot_confusion_matrix(cm, classes, title='Confusion Matrix', cmap=plt.cm.Blues, figsize=(10, 8), is_norm=True):\n",
    "    \"\"\"\n",
    "    This function plots a confusion matrix.\n",
    "\n",
    "    Parameters:\n",
    "        cm (array-like): Confusion matrix as returned by sklearn.metrics.confusion_matrix.\n",
    "        classes (list): List of class names, e.g., ['Class 0', 'Class 1'].\n",
    "        title (str): Title for the plot.\n",
    "        cmap (matplotlib colormap): Colormap for the plot.\n",
    "    \"\"\"\n",
    "    # Create a figure with a specified size\n",
    "    plt.figure(figsize=figsize)\n",
    "    \n",
    "    \n",
    "    # Display the confusion matrix as an image with a colormap\n",
    "    plt.imshow(cm, interpolation='nearest', cmap=cmap)\n",
    "    plt.title(title)\n",
    "    plt.colorbar()\n",
    "\n",
    "    # Define tick marks and labels for the classes on the axes\n",
    "    tick_marks = np.arange(len(classes))\n",
    "    plt.xticks(tick_marks, classes, rotation=90)\n",
    "    plt.yticks(tick_marks, classes)\n",
    "    \n",
    "    if is_norm:\n",
    "        fmt = '.3f'\n",
    "    else:\n",
    "        fmt = '.0f'\n",
    "    # Add text annotations to the plot indicating the values in the cells\n",
    "    thresh = cm.max() / 2.0\n",
    "    for i, j in itertools.product(range(cm.shape[0]), range(cm.shape[1])):\n",
    "        plt.text(j, i, format(cm[i, j], fmt), horizontalalignment=\"center\", color=\"white\" if cm[i, j] > thresh else \"black\")\n",
    "\n",
    "    # Label the axes\n",
    "    plt.ylabel('True label')\n",
    "    plt.xlabel('Predicted label')\n",
    "\n",
    "    # Ensure the plot layout is tight\n",
    "    plt.tight_layout()\n",
    "    # Display the plot\n",
    "    plt.show()\n",
    "\n",
    "# Calculate accuracy and F1 score\n",
    "accuracy = accuracy_score(y_true, y_pred)\n",
    "f1 = f1_score(y_true, y_pred, average='macro')\n",
    "\n",
    "# Display accuracy and F1 score\n",
    "print(f\"Accuracy: {accuracy:.4f}\")\n",
    "print(f\"F1 Score: {f1:.4f}\")\n",
    "\n",
    "# Get the confusion matrix if there are a relatively small number of labels\n",
    "if len(labels) <= 120:\n",
    "    # Compute the confusion matrix\n",
    "    cm = confusion_matrix(y_true, y_pred) # normalize='true'\n",
    "\n",
    "    # Plot the confusion matrix using the defined function\n",
    "    plot_confusion_matrix(cm, labels, figsize=(8, 6), is_norm=False)\n",
    "\n",
    "# Finally, display classification report\n",
    "print()\n",
    "print(\"Classification report:\")\n",
    "print()\n",
    "print(classification_report(y_true, y_pred, target_names=labels, digits=4))"
   ]
  },
  {
   "cell_type": "code",
   "execution_count": 32,
   "id": "c9e1692e",
   "metadata": {},
   "outputs": [],
   "source": [
    "trainer.save_model()"
   ]
  },
  {
   "cell_type": "code",
   "execution_count": 38,
   "id": "08c9b392",
   "metadata": {},
   "outputs": [
    {
     "data": {
      "text/plain": [
       "Wav2Vec2ForSequenceClassification(\n",
       "  (wav2vec2): Wav2Vec2Model(\n",
       "    (feature_extractor): Wav2Vec2FeatureEncoder(\n",
       "      (conv_layers): ModuleList(\n",
       "        (0): Wav2Vec2GroupNormConvLayer(\n",
       "          (conv): Conv1d(1, 512, kernel_size=(10,), stride=(5,), bias=False)\n",
       "          (activation): GELUActivation()\n",
       "          (layer_norm): GroupNorm(512, 512, eps=1e-05, affine=True)\n",
       "        )\n",
       "        (1-4): 4 x Wav2Vec2NoLayerNormConvLayer(\n",
       "          (conv): Conv1d(512, 512, kernel_size=(3,), stride=(2,), bias=False)\n",
       "          (activation): GELUActivation()\n",
       "        )\n",
       "        (5-6): 2 x Wav2Vec2NoLayerNormConvLayer(\n",
       "          (conv): Conv1d(512, 512, kernel_size=(2,), stride=(2,), bias=False)\n",
       "          (activation): GELUActivation()\n",
       "        )\n",
       "      )\n",
       "    )\n",
       "    (feature_projection): Wav2Vec2FeatureProjection(\n",
       "      (layer_norm): LayerNorm((512,), eps=1e-05, elementwise_affine=True)\n",
       "      (projection): Linear(in_features=512, out_features=768, bias=True)\n",
       "      (dropout): Dropout(p=0.1, inplace=False)\n",
       "    )\n",
       "    (encoder): Wav2Vec2Encoder(\n",
       "      (pos_conv_embed): Wav2Vec2PositionalConvEmbedding(\n",
       "        (conv): ParametrizedConv1d(\n",
       "          768, 768, kernel_size=(128,), stride=(1,), padding=(64,), groups=16\n",
       "          (parametrizations): ModuleDict(\n",
       "            (weight): ParametrizationList(\n",
       "              (0): _WeightNorm()\n",
       "            )\n",
       "          )\n",
       "        )\n",
       "        (padding): Wav2Vec2SamePadLayer()\n",
       "        (activation): GELUActivation()\n",
       "      )\n",
       "      (layer_norm): LayerNorm((768,), eps=1e-05, elementwise_affine=True)\n",
       "      (dropout): Dropout(p=0.1, inplace=False)\n",
       "      (layers): ModuleList(\n",
       "        (0-11): 12 x Wav2Vec2EncoderLayer(\n",
       "          (attention): Wav2Vec2SdpaAttention(\n",
       "            (k_proj): Linear(in_features=768, out_features=768, bias=True)\n",
       "            (v_proj): Linear(in_features=768, out_features=768, bias=True)\n",
       "            (q_proj): Linear(in_features=768, out_features=768, bias=True)\n",
       "            (out_proj): Linear(in_features=768, out_features=768, bias=True)\n",
       "          )\n",
       "          (dropout): Dropout(p=0.1, inplace=False)\n",
       "          (layer_norm): LayerNorm((768,), eps=1e-05, elementwise_affine=True)\n",
       "          (feed_forward): Wav2Vec2FeedForward(\n",
       "            (intermediate_dropout): Dropout(p=0.1, inplace=False)\n",
       "            (intermediate_dense): Linear(in_features=768, out_features=3072, bias=True)\n",
       "            (intermediate_act_fn): GELUActivation()\n",
       "            (output_dense): Linear(in_features=3072, out_features=768, bias=True)\n",
       "            (output_dropout): Dropout(p=0.1, inplace=False)\n",
       "          )\n",
       "          (final_layer_norm): LayerNorm((768,), eps=1e-05, elementwise_affine=True)\n",
       "        )\n",
       "      )\n",
       "    )\n",
       "  )\n",
       "  (projector): Linear(in_features=768, out_features=256, bias=True)\n",
       "  (classifier): Linear(in_features=256, out_features=16, bias=True)\n",
       ")"
      ]
     },
     "execution_count": 38,
     "metadata": {},
     "output_type": "execute_result"
    }
   ],
   "source": [
    "# Load the saved model\n",
    "model = AutoModelForAudioClassification.from_pretrained(model_name)\n",
    "\n",
    "# Load the feature extractor\n",
    "feature_extractor = AutoFeatureExtractor.from_pretrained(\"dima806/english_accents_classification\")\n",
    "\n",
    "# Move the model to the appropriate device (CPU or GPU)\n",
    "device = torch.device(\"cuda\" if torch.cuda.is_available() else \"cpu\")\n",
    "model.to(device)"
   ]
  },
  {
   "cell_type": "code",
   "execution_count": 44,
   "id": "f7f441fc",
   "metadata": {},
   "outputs": [
    {
     "name": "stdout",
     "output_type": "stream",
     "text": [
      "Predicted class ID: 6\n",
      "Predicted class label: indian\n"
     ]
    }
   ],
   "source": [
    "\n",
    "audio,rate=torchaudio.load('odi_recordings/support_converted.wav')\n",
    "transform=torchaudio.transforms.Resample(rate,RATE_HZ)\n",
    "audio=transform(audio).numpy().reshape(-1)\n",
    "\n",
    "target_sample_rate = feature_extractor.sampling_rate\n",
    "\n",
    "# Preprocess the audio\n",
    "inputs = feature_extractor(audio, sampling_rate=target_sample_rate, return_tensors=\"pt\")\n",
    "\n",
    "# Move inputs to the same device as the model\n",
    "inputs = {key: value.to(device) for key, value in inputs.items()}\n",
    "\n",
    "# Make predictions\n",
    "with torch.no_grad():\n",
    "    outputs = model(**inputs)\n",
    "\n",
    "# Extract logits (raw predictions)\n",
    "logits = outputs.logits\n",
    "\n",
    "# Get predicted class\n",
    "predicted_class_id = logits.argmax().item()\n",
    "predicted_class_label = model.config.id2label[predicted_class_id]\n",
    "\n",
    "# Print the predicted class\n",
    "print(f\"Predicted class ID: {predicted_class_id}\")\n",
    "print(f\"Predicted class label: {predicted_class_label}\")"
   ]
  }
 ],
 "metadata": {
  "kernelspec": {
   "display_name": "Python 3 (ipykernel)",
   "language": "python",
   "name": "python3"
  },
  "language_info": {
   "codemirror_mode": {
    "name": "ipython",
    "version": 3
   },
   "file_extension": ".py",
   "mimetype": "text/x-python",
   "name": "python",
   "nbconvert_exporter": "python",
   "pygments_lexer": "ipython3",
   "version": "3.11.7"
  }
 },
 "nbformat": 4,
 "nbformat_minor": 5
}
