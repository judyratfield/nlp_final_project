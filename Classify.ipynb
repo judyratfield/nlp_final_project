{
 "cells": [
  {
   "cell_type": "markdown",
   "id": "716e7a89",
   "metadata": {},
   "source": [
    "5) Classify - combines solutions from 1-4 to classify sentiment of customer and to which agent should the customer be assigned to"
   ]
  },
  {
   "cell_type": "code",
   "execution_count": 1,
   "id": "cde8d4cf",
   "metadata": {},
   "outputs": [],
   "source": [
    "import nbformat\n",
    "from IPython import get_ipython\n",
    "from IPython.core.interactiveshell import InteractiveShell\n",
    "\n",
    "def import_from_notebook(notebook_path, function_name):\n",
    "    with open(notebook_path, 'r', encoding='utf-8') as f:\n",
    "        nb = nbformat.read(f, as_version=4)\n",
    "\n",
    "    shell = InteractiveShell.instance()\n",
    "    code = \"\\n\".join([cell.source for cell in nb.cells if cell.cell_type == 'code'])\n",
    "    exec(code, shell.user_ns)\n",
    "    return shell.user_ns[function_name]"
   ]
  },
  {
   "cell_type": "code",
   "execution_count": 2,
   "id": "b21e712f",
   "metadata": {},
   "outputs": [
    {
     "name": "stdout",
     "output_type": "stream",
     "text": [
      "pygame 2.5.2 (SDL 2.28.3, Python 3.11.7)\n",
      "Hello from the pygame community. https://www.pygame.org/contribute.html\n",
      "WARNING:tensorflow:From C:\\Users\\rodul\\anaconda3\\Lib\\site-packages\\tf_keras\\src\\losses.py:2976: The name tf.losses.sparse_softmax_cross_entropy is deprecated. Please use tf.compat.v1.losses.sparse_softmax_cross_entropy instead.\n",
      "\n"
     ]
    },
    {
     "name": "stderr",
     "output_type": "stream",
     "text": [
      "Special tokens have been added in the vocabulary, make sure the associated word embeddings are fine-tuned or trained.\n"
     ]
    },
    {
     "name": "stdout",
     "output_type": "stream",
     "text": [
      "Transcribing. Please wait...\n"
     ]
    },
    {
     "name": "stderr",
     "output_type": "stream",
     "text": [
      "Due to a bug fix in https://github.com/huggingface/transformers/pull/28687 transcription using a multilingual Whisper will default to language detection followed by transcription instead of translation to English.This might be a breaking change for your use case. If you want to instead always translate your audio to English, make sure to pass `language='en'`.\n"
     ]
    },
    {
     "name": "stdout",
     "output_type": "stream",
     "text": [
      "Transcript: {'text': \" I'm dissatisfied with the technician who helped me yesterday. I'm unhappy with your service. I actually have a problem with the way you handled my request. This is unacceptable. I would like to speak with your supervisor. Fuck you! I hate you for treating me like shit!\"}\n",
      "User is angry.\n",
      "Transcribing. Please wait...\n",
      "Transcript: {'text': \" I'm dissatisfied with the technician who helped me yesterday. I'm unhappy with your service. I actually have a problem with the way you handled my request. This is unacceptable. I would like to speak with your supervisor. Fuck you! I hate you for treating me like shit!\"}\n",
      "User is angry.\n"
     ]
    }
   ],
   "source": [
    "is_caller_angry = import_from_notebook('Text Semantic Analysis.ipynb', 'is_caller_angry')"
   ]
  },
  {
   "cell_type": "code",
   "execution_count": 3,
   "id": "11d144a8",
   "metadata": {},
   "outputs": [
    {
     "name": "stdout",
     "output_type": "stream",
     "text": [
      "Transcribing. Please wait...\n",
      "Transcript: {'text': \" I'm dissatisfied with the technician who helped me yesterday. I'm unhappy with your service. I actually have a problem with the way you handled my request. This is unacceptable. I would like to speak with your supervisor. Fuck you! I hate you for treating me like shit!\"}\n",
      "User is angry.\n"
     ]
    },
    {
     "data": {
      "text/plain": [
       "'OFFENSIVE-LANGUAGE'"
      ]
     },
     "execution_count": 3,
     "metadata": {},
     "output_type": "execute_result"
    }
   ],
   "source": [
    "#assigned file path of the recording used earlier to input_file variable\n",
    "input_file = \"odi_recordings/complaints_converted.wav\"\n",
    "\n",
    "#called function\n",
    "is_caller_angry(input_file)"
   ]
  },
  {
   "cell_type": "code",
   "execution_count": 3,
   "id": "a4a13df9",
   "metadata": {},
   "outputs": [],
   "source": [
    "import os\n",
    "import pandas as pd\n",
    "import tensorflow as tf\n",
    "from tensorflow.keras.preprocessing.text import Tokenizer\n",
    "from tensorflow.keras.preprocessing.sequence import pad_sequences\n",
    "\n",
    "# Load the emotion recognition model\n",
    "model = tf.keras.models.load_model('emotion_recognition_model.h5')"
   ]
  },
  {
   "cell_type": "code",
   "execution_count": 4,
   "id": "90670723",
   "metadata": {},
   "outputs": [],
   "source": [
    "# Import necessary libraries\n",
    "import librosa\n",
    "import librosa.display\n",
    "import numpy as np\n",
    "import matplotlib.pyplot as plt\n",
    "import tensorflow as tf\n",
    "from sklearn.preprocessing import StandardScaler, OneHotEncoder\n",
    "from sklearn.metrics import confusion_matrix, classification_report\n",
    "from sklearn.model_selection import train_test_split\n",
    "import seaborn as sns\n",
    "from keras.callbacks import ReduceLROnPlateau\n",
    "from keras.models import Sequential\n",
    "from keras.layers import Dense, Conv1D, MaxPooling1D, Flatten, Dropout\n",
    "import os\n",
    "import pandas as pd\n",
    "import warnings\n",
    "\n",
    "# Suppress warnings\n",
    "warnings.filterwarnings(\"ignore\", category=DeprecationWarning) "
   ]
  },
  {
   "cell_type": "code",
   "execution_count": 5,
   "id": "3c7fe20e",
   "metadata": {},
   "outputs": [],
   "source": [
    "# Audio data augmentation functions\n",
    "def noise(data):\n",
    "    noise_amp = 0.035 * np.random.uniform() * np.amax(data)\n",
    "    data = data + noise_amp * np.random.normal(size=data.shape[0])\n",
    "    return data\n",
    "\n",
    "def stretch(data, rate=0.8):\n",
    "    return librosa.effects.time_stretch(data, rate=rate)\n",
    "\n",
    "def shift(data):\n",
    "    shift_range = int(np.random.uniform(low=-5, high=5) * 1000)\n",
    "    return np.roll(data, shift_range)\n",
    "\n",
    "def pitch(data, sampling_rate, pitch_factor=0.7):\n",
    "    return librosa.effects.pitch_shift(data, sr=sampling_rate, n_steps=pitch_factor)\n",
    "\n",
    "# Feature extraction function\n",
    "def extract_features(data, sample_rate):\n",
    "    result = np.array([])\n",
    "    \n",
    "    # Zero Crossing Rate\n",
    "    zcr = np.mean(librosa.feature.zero_crossing_rate(y=data).T, axis=0)\n",
    "    result = np.hstack((result, zcr))\n",
    "    \n",
    "    # Chroma STFT\n",
    "    stft = np.abs(librosa.stft(data))\n",
    "    chroma_stft = np.mean(librosa.feature.chroma_stft(S=stft, sr=sample_rate).T, axis=0)\n",
    "    result = np.hstack((result, chroma_stft))\n",
    "    \n",
    "    # MFCC\n",
    "    mfcc = np.mean(librosa.feature.mfcc(y=data, sr=sample_rate).T, axis=0)\n",
    "    result = np.hstack((result, mfcc))\n",
    "    \n",
    "    # Root Mean Square Value\n",
    "    rms = np.mean(librosa.feature.rms(y=data).T, axis=0)\n",
    "    result = np.hstack((result, rms))\n",
    "    \n",
    "    # Mel Spectrogram\n",
    "    mel = np.mean(librosa.feature.melspectrogram(y=data, sr=sample_rate).T, axis=0)\n",
    "    result = np.hstack((result, mel))\n",
    "    \n",
    "    return result\n",
    "\n",
    "# Function to get features from an audio file path\n",
    "def get_features(path):\n",
    "    data, sample_rate = librosa.load(path, duration=2.5, offset=0.6)\n",
    "    \n",
    "    # Without augmentation\n",
    "    res1 = extract_features(data, sample_rate)\n",
    "    result = np.array(res1)\n",
    "    \n",
    "    # Data with noise\n",
    "    noise_data = noise(data)\n",
    "    res2 = extract_features(noise_data, sample_rate)\n",
    "    result = np.vstack((result, res2))\n",
    "    \n",
    "    # Data with stretching and pitching\n",
    "    new_data = stretch(data)\n",
    "    data_stretch_pitch = pitch(new_data, sample_rate)\n",
    "    res3 = extract_features(data_stretch_pitch, sample_rate)\n",
    "    result = np.vstack((result, res3))\n",
    "    \n",
    "    return result"
   ]
  },
  {
   "cell_type": "code",
   "execution_count": 18,
   "id": "51918961",
   "metadata": {},
   "outputs": [],
   "source": [
    "inputs_file = \"ravdess-emotional-speech-audio/audio_speech_actors_01-24/Actor_12/03-01-03-01-02-02-12.wav\""
   ]
  },
  {
   "cell_type": "code",
   "execution_count": 19,
   "id": "601c3952",
   "metadata": {},
   "outputs": [
    {
     "data": {
      "text/plain": [
       "array([[ 1.81039316e-01,  4.99922782e-01,  5.19312322e-01,\n",
       "         5.36365926e-01,  5.46209097e-01,  5.77360690e-01,\n",
       "         5.69020629e-01,  6.11359477e-01,  5.90420008e-01,\n",
       "         4.89227742e-01,  5.36642134e-01,  6.47746921e-01,\n",
       "         6.03380978e-01, -4.97832489e+02,  6.79058456e+01,\n",
       "        -2.75074425e+01,  5.88171339e+00,  1.35617197e+00,\n",
       "        -1.93831959e+01, -1.07366400e+01, -2.49538288e+01,\n",
       "        -1.29995785e+01, -2.08402586e+00, -1.33506231e+01,\n",
       "        -1.55949906e-01, -1.54989538e+01, -6.70991278e+00,\n",
       "        -1.34309244e+00, -1.34131861e+01, -9.86948776e+00,\n",
       "        -1.58774972e+00, -7.91346979e+00, -7.70203781e+00,\n",
       "         1.08867213e-02,  5.75414333e-06,  2.18203440e-05,\n",
       "         3.30082366e-05,  1.13882361e-05,  8.16348824e-04,\n",
       "         4.12887819e-02,  2.32550636e-01,  1.80637822e-01,\n",
       "         3.21456581e-01,  2.15535477e-01,  5.46210334e-02,\n",
       "         7.60666374e-03,  1.95617359e-02,  1.34140834e-01,\n",
       "         3.02985817e-01,  1.52081609e-01,  4.29081470e-01,\n",
       "         3.79557550e-01,  1.95678905e-01,  1.69101253e-01,\n",
       "         2.41630450e-01,  2.33498320e-01,  1.08608305e-01,\n",
       "         8.00455660e-02,  8.37621167e-02,  1.52347848e-01,\n",
       "         1.02116480e-01,  2.17462048e-01,  3.03468525e-01,\n",
       "         1.49409503e-01,  2.19907258e-02,  3.56135308e-03,\n",
       "         3.30702937e-03,  4.67178645e-03,  1.44704320e-02,\n",
       "         3.78401987e-02,  7.74630904e-02,  1.19590528e-01,\n",
       "         2.81433221e-02,  8.69142730e-03,  3.02245165e-03,\n",
       "         5.91055257e-03,  1.83243714e-02,  1.38744470e-02,\n",
       "         2.50988882e-02,  1.11906096e-01,  5.95716089e-02,\n",
       "         5.65160662e-02,  2.37980820e-02,  1.55398566e-02,\n",
       "         6.90896809e-03,  1.12654446e-02,  2.03103293e-02,\n",
       "         2.36783605e-02,  1.76259056e-02,  1.56066893e-02,\n",
       "         1.09726619e-02,  1.87805984e-02,  2.02986989e-02,\n",
       "         1.23524712e-02,  7.07723806e-03,  9.11256205e-03,\n",
       "         1.16583835e-02,  5.86673617e-03,  3.67253833e-03,\n",
       "         3.22544901e-03,  3.09918262e-03,  2.14955048e-03,\n",
       "         2.88007874e-03,  3.15237069e-03,  3.55162611e-03,\n",
       "         2.95666419e-03,  4.91987122e-03,  4.95571177e-03,\n",
       "         7.85177667e-03,  1.07884640e-02,  8.05048365e-03,\n",
       "         3.68824136e-03,  2.79830256e-03,  1.78733771e-03,\n",
       "         1.46120519e-03,  1.05874590e-03,  7.69597304e-04,\n",
       "         7.24786136e-04,  1.04984315e-03,  1.06394407e-03,\n",
       "         1.69361674e-03,  1.87670544e-03,  3.22549767e-03,\n",
       "         3.48755508e-03,  2.53288099e-03,  1.73438026e-03,\n",
       "         1.12186454e-03,  1.12149352e-03,  4.77219350e-04,\n",
       "         3.47983150e-04,  2.48729833e-04,  1.44029909e-04,\n",
       "         1.16568328e-04,  7.86282544e-05,  8.70969307e-05,\n",
       "         8.17967157e-05,  5.46093506e-05,  4.86071076e-05,\n",
       "         7.56450318e-05,  1.31834968e-04,  1.05835534e-04,\n",
       "         1.56337745e-04,  1.23928359e-04,  1.02034872e-04,\n",
       "         6.29970164e-05,  9.69211105e-05,  1.47362778e-04,\n",
       "         2.22868781e-04,  2.72363628e-04,  3.44714004e-04,\n",
       "         4.77382477e-04,  8.33518570e-04,  9.09646857e-04,\n",
       "         6.01548469e-04,  7.61808478e-04,  1.07235881e-03,\n",
       "         9.87380627e-04,  1.22773484e-03,  1.89745601e-03,\n",
       "         5.39129181e-03,  4.58882097e-03,  3.22315464e-04],\n",
       "       [ 2.24821868e-01,  5.63785318e-01,  5.88974312e-01,\n",
       "         5.83427218e-01,  6.17741210e-01,  6.29824898e-01,\n",
       "         5.89093700e-01,  6.38112221e-01,  5.48755976e-01,\n",
       "         5.06262915e-01,  5.89410141e-01,  6.40561403e-01,\n",
       "         5.79292683e-01, -4.69832833e+02,  5.36415444e+01,\n",
       "        -2.15124784e+01,  3.59777296e+00,  3.87947231e-01,\n",
       "        -1.64853586e+01, -1.00057800e+01, -2.21785300e+01,\n",
       "        -1.23500563e+01, -3.25939353e+00, -1.15119455e+01,\n",
       "        -1.27672430e+00, -1.28405398e+01, -7.15917174e+00,\n",
       "        -1.86248765e+00, -1.23656032e+01, -9.35973011e+00,\n",
       "        -1.93562093e+00, -8.03617818e+00, -8.03995380e+00,\n",
       "         1.09076761e-02,  6.84745071e-06,  2.27419287e-05,\n",
       "         3.54125783e-05,  1.16183745e-05,  8.17299104e-04,\n",
       "         4.12788018e-02,  2.32600278e-01,  1.80666661e-01,\n",
       "         3.21405258e-01,  2.15568975e-01,  5.46324462e-02,\n",
       "         7.60117761e-03,  1.95546552e-02,  1.34145778e-01,\n",
       "         3.03083779e-01,  1.52078707e-01,  4.28906911e-01,\n",
       "         3.79392851e-01,  1.95482078e-01,  1.69039924e-01,\n",
       "         2.41735000e-01,  2.33538138e-01,  1.08642742e-01,\n",
       "         8.00147610e-02,  8.37541297e-02,  1.52337022e-01,\n",
       "         1.02164648e-01,  2.17402388e-01,  3.03355058e-01,\n",
       "         1.49440394e-01,  2.20015347e-02,  3.55204049e-03,\n",
       "         3.30812012e-03,  4.68396401e-03,  1.44828712e-02,\n",
       "         3.79219658e-02,  7.75178226e-02,  1.19584777e-01,\n",
       "         2.81599073e-02,  8.67775486e-03,  3.02552427e-03,\n",
       "         5.90010370e-03,  1.83249047e-02,  1.38788968e-02,\n",
       "         2.51374391e-02,  1.11965194e-01,  5.95762097e-02,\n",
       "         5.65115152e-02,  2.37958832e-02,  1.55409265e-02,\n",
       "         6.91945985e-03,  1.12720073e-02,  2.03011892e-02,\n",
       "         2.36458455e-02,  1.76010625e-02,  1.56119068e-02,\n",
       "         1.09791275e-02,  1.87574855e-02,  2.02939307e-02,\n",
       "         1.23633577e-02,  7.08104309e-03,  9.10673344e-03,\n",
       "         1.16708018e-02,  5.87982755e-03,  3.67123644e-03,\n",
       "         3.22329407e-03,  3.10117768e-03,  2.15258275e-03,\n",
       "         2.89064717e-03,  3.15996171e-03,  3.56030079e-03,\n",
       "         2.96312688e-03,  4.92777434e-03,  4.95578545e-03,\n",
       "         7.84732910e-03,  1.07855662e-02,  8.05087735e-03,\n",
       "         3.69318030e-03,  2.79705080e-03,  1.79271005e-03,\n",
       "         1.45932484e-03,  1.06260840e-03,  7.70209579e-04,\n",
       "         7.24856532e-04,  1.05405289e-03,  1.06595011e-03,\n",
       "         1.69185268e-03,  1.87103301e-03,  3.22427245e-03,\n",
       "         3.49320406e-03,  2.53057462e-03,  1.73709394e-03,\n",
       "         1.12440357e-03,  1.12102983e-03,  4.80369146e-04,\n",
       "         3.49941443e-04,  2.49317791e-04,  1.45142415e-04,\n",
       "         1.17683344e-04,  7.98645674e-05,  8.98995195e-05,\n",
       "         8.33219775e-05,  5.60137849e-05,  4.96564115e-05,\n",
       "         7.70468990e-05,  1.32566843e-04,  1.06662749e-04,\n",
       "         1.57474075e-04,  1.24063239e-04,  1.03290327e-04,\n",
       "         6.46468988e-05,  9.84487830e-05,  1.48170183e-04,\n",
       "         2.24318689e-04,  2.71319825e-04,  3.44773516e-04,\n",
       "         4.78183291e-04,  8.35350281e-04,  9.08493051e-04,\n",
       "         6.01906600e-04,  7.60286138e-04,  1.07458791e-03,\n",
       "         9.88771183e-04,  1.22864627e-03,  1.89747686e-03,\n",
       "         5.39253007e-03,  4.59126931e-03,  3.23415386e-04],\n",
       "       [ 1.49540654e-01,  5.31848967e-01,  5.04671812e-01,\n",
       "         5.30478656e-01,  5.03975749e-01,  5.20012200e-01,\n",
       "         5.60561240e-01,  5.89251161e-01,  6.26202762e-01,\n",
       "         5.14776230e-01,  4.71204966e-01,  5.95598459e-01,\n",
       "         6.31023705e-01, -5.47341797e+02,  6.04692116e+01,\n",
       "        -2.72847309e+01,  5.91758347e+00, -1.63574541e+00,\n",
       "        -1.91132717e+01, -1.48272896e+01, -2.87088375e+01,\n",
       "        -1.14256821e+01, -3.48655963e+00, -1.10269804e+01,\n",
       "        -1.98553967e+00, -1.60128994e+01, -2.62351227e+00,\n",
       "        -3.23541284e+00, -1.39299164e+01, -6.30328417e+00,\n",
       "        -2.90959811e+00, -1.06642981e+01, -7.21525717e+00,\n",
       "         5.33423945e-03,  1.20705204e-06,  5.27874499e-06,\n",
       "         7.41107442e-06,  4.72956708e-06,  1.46179145e-05,\n",
       "         2.85153463e-03,  3.84002253e-02,  3.69866602e-02,\n",
       "         3.94669585e-02,  5.99075109e-02,  6.38822541e-02,\n",
       "         7.06508476e-03,  1.60920795e-03,  1.83841698e-02,\n",
       "         1.26021117e-01,  8.04748312e-02,  3.32298242e-02,\n",
       "         2.15507761e-01,  9.32662115e-02,  3.90344113e-02,\n",
       "         2.08908059e-02,  5.33144958e-02,  4.94754352e-02,\n",
       "         1.73884109e-02,  1.01118162e-02,  1.23052252e-02,\n",
       "         2.90703047e-02,  1.44371642e-02,  2.63321232e-02,\n",
       "         5.16806431e-02,  3.27557474e-02,  1.48772784e-02,\n",
       "         6.94579328e-04,  3.86598986e-04,  7.26632366e-04,\n",
       "         1.58758124e-03,  4.58632596e-03,  7.02640461e-03,\n",
       "         2.24440712e-02,  9.03079007e-03,  1.53067813e-03,\n",
       "         5.64150454e-04,  7.89190526e-04,  4.53150086e-03,\n",
       "         4.15697135e-03,  1.29402475e-03,  1.14058796e-02,\n",
       "         1.47346361e-02,  1.61215179e-02,  1.20070633e-02,\n",
       "         5.77015569e-03,  3.13672051e-03,  2.14167754e-03,\n",
       "         3.64705152e-03,  4.45880555e-03,  4.44766879e-03,\n",
       "         3.13392445e-03,  3.57493525e-03,  3.31714423e-03,\n",
       "         3.56269698e-03,  5.01220627e-03,  1.38546794e-03,\n",
       "         1.49468740e-03,  1.75372127e-03,  1.44508691e-03,\n",
       "         1.02969503e-03,  5.85833914e-04,  7.02427467e-04,\n",
       "         6.00856496e-04,  2.88140203e-04,  3.22220643e-04,\n",
       "         6.45324122e-04,  6.67478424e-04,  6.22131513e-04,\n",
       "         1.15798623e-03,  9.69855988e-04,  1.66819931e-03,\n",
       "         9.78542375e-04,  1.26684655e-03,  6.47617970e-04,\n",
       "         4.15937160e-04,  3.24842840e-04,  2.41954956e-04,\n",
       "         1.36309478e-04,  1.27081206e-04,  2.11502644e-04,\n",
       "         2.05399701e-04,  3.17972241e-04,  2.99817650e-04,\n",
       "         4.10035427e-04,  7.57142669e-04,  6.56665477e-04,\n",
       "         4.25155100e-04,  2.78247666e-04,  1.88566672e-04,\n",
       "         1.32415560e-04,  8.60882792e-05,  6.62359889e-05,\n",
       "         5.84601657e-05,  2.30250716e-05,  2.32779876e-05,\n",
       "         1.66721311e-05,  1.97519312e-05,  1.53573856e-05,\n",
       "         9.38236917e-06,  2.10068592e-05,  2.62953599e-05,\n",
       "         3.12208686e-05,  2.53752551e-05,  2.39816291e-05,\n",
       "         2.17930628e-05,  1.51774329e-05,  2.26490793e-05,\n",
       "         1.77594284e-05,  4.03091435e-05,  5.52309320e-05,\n",
       "         5.79481675e-05,  1.01632839e-04,  1.43051657e-04,\n",
       "         1.85983081e-04,  1.44229853e-04,  1.11115187e-04,\n",
       "         1.84825170e-04,  2.21592636e-04,  2.10717175e-04,\n",
       "         5.11350925e-04,  2.23792449e-04,  3.28825154e-05]])"
      ]
     },
     "execution_count": 19,
     "metadata": {},
     "output_type": "execute_result"
    }
   ],
   "source": [
    "feature = get_features(inputs_file)\n",
    "feature"
   ]
  },
  {
   "cell_type": "code",
   "execution_count": 20,
   "id": "3367c25e",
   "metadata": {},
   "outputs": [
    {
     "name": "stdout",
     "output_type": "stream",
     "text": [
      "\u001b[1m1/1\u001b[0m \u001b[32m━━━━━━━━━━━━━━━━━━━━\u001b[0m\u001b[37m\u001b[0m \u001b[1m0s\u001b[0m 31ms/step\n"
     ]
    },
    {
     "data": {
      "text/plain": [
       "array([[0., 0., 0., 0., 1., 0., 0.],\n",
       "       [0., 0., 0., 0., 1., 0., 0.],\n",
       "       [0., 0., 0., 0., 1., 0., 0.]], dtype=float32)"
      ]
     },
     "execution_count": 20,
     "metadata": {},
     "output_type": "execute_result"
    }
   ],
   "source": [
    "y_pred = model.predict(feature)\n",
    "y_pred"
   ]
  },
  {
   "cell_type": "code",
   "execution_count": 21,
   "id": "8ab51d45",
   "metadata": {},
   "outputs": [
    {
     "data": {
      "text/plain": [
       "array([4, 4, 4], dtype=int64)"
      ]
     },
     "execution_count": 21,
     "metadata": {},
     "output_type": "execute_result"
    }
   ],
   "source": [
    "y_pred = np.argmax(y_pred, axis=1)\n",
    "y_pred"
   ]
  }
 ],
 "metadata": {
  "kernelspec": {
   "display_name": "Python 3 (ipykernel)",
   "language": "python",
   "name": "python3"
  },
  "language_info": {
   "codemirror_mode": {
    "name": "ipython",
    "version": 3
   },
   "file_extension": ".py",
   "mimetype": "text/x-python",
   "name": "python",
   "nbconvert_exporter": "python",
   "pygments_lexer": "ipython3",
   "version": "3.11.7"
  }
 },
 "nbformat": 4,
 "nbformat_minor": 5
}
